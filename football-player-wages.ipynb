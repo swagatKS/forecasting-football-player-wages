{
  "cells": [
    {
      "cell_type": "markdown",
      "metadata": {
        "id": "QZcF_JfHeJvH"
      },
      "source": [
        "# **Football Wages Cleaning**"
      ]
    },
    {
      "cell_type": "markdown",
      "metadata": {
        "id": "f1jy1oJPvrb2"
      },
      "source": [
        "# **Importing Data**"
      ]
    },
    {
      "cell_type": "code",
      "execution_count": 59,
      "metadata": {
        "execution": {
          "iopub.execute_input": "2024-04-29T14:04:31.458549Z",
          "iopub.status.busy": "2024-04-29T14:04:31.458115Z",
          "iopub.status.idle": "2024-04-29T14:04:32.567891Z",
          "shell.execute_reply": "2024-04-29T14:04:32.566260Z",
          "shell.execute_reply.started": "2024-04-29T14:04:31.458513Z"
        },
        "id": "gjG32ufSeJvO"
      },
      "outputs": [],
      "source": [
        "import numpy as np\n",
        "import pandas as pd\n",
        "import matplotlib.pyplot as plt\n",
        "import seaborn as sns\n",
        "from datetime import datetime\n",
        "\n",
        "from sklearn.model_selection import train_test_split\n",
        "from sklearn.preprocessing import MinMaxScaler,StandardScaler\n",
        "\n",
        "from sklearn.ensemble import ExtraTreesRegressor\n",
        "from sklearn.ensemble import VotingRegressor\n",
        "from sklearn.ensemble import GradientBoostingRegressor\n",
        "\n",
        "from sklearn.metrics import mean_squared_error, r2_score"
      ]
    },
    {
      "cell_type": "code",
      "execution_count": 60,
      "metadata": {
        "colab": {
          "base_uri": "https://localhost:8080/"
        },
        "execution": {
          "iopub.execute_input": "2024-04-29T14:04:32.573129Z",
          "iopub.status.busy": "2024-04-29T14:04:32.569886Z",
          "iopub.status.idle": "2024-04-29T14:04:32.673673Z",
          "shell.execute_reply": "2024-04-29T14:04:32.672250Z",
          "shell.execute_reply.started": "2024-04-29T14:04:32.573061Z"
        },
        "id": "w-3bjYjbeJvP",
        "outputId": "bd063396-8f1c-4306-c261-f62b9ab712d5"
      },
      "outputs": [
        {
          "data": {
            "text/plain": [
              "(40791, 16)"
            ]
          },
          "execution_count": 60,
          "metadata": {},
          "output_type": "execute_result"
        }
      ],
      "source": [
        "df=pd.read_csv('/content/raw_wages.csv')\n",
        "df.shape"
      ]
    },
    {
      "cell_type": "code",
      "execution_count": 61,
      "metadata": {
        "colab": {
          "base_uri": "https://localhost:8080/",
          "height": 425
        },
        "execution": {
          "iopub.execute_input": "2024-04-29T14:04:32.675753Z",
          "iopub.status.busy": "2024-04-29T14:04:32.675369Z",
          "iopub.status.idle": "2024-04-29T14:04:32.707572Z",
          "shell.execute_reply": "2024-04-29T14:04:32.706157Z",
          "shell.execute_reply.started": "2024-04-29T14:04:32.675721Z"
        },
        "id": "ogttlug1eJvP",
        "outputId": "0ebe95c4-e169-4dd3-b282-14e26a4258d8"
      },
      "outputs": [
        {
          "data": {
            "application/vnd.google.colaboratory.intrinsic+json": {
              "summary": "{\n  \"name\": \"df\",\n  \"rows\": 40791,\n  \"fields\": [\n    {\n      \"column\": \"Name\",\n      \"properties\": {\n        \"dtype\": \"category\",\n        \"num_unique_values\": 10,\n        \"samples\": [\n          \" N'Golo Kant\\u00e9 - French          \",\n          \" Karim Benzema - French         \",\n          \" Sadio Man\\u00e9 - Senegalese        \"\n        ],\n        \"semantic_type\": \"\",\n        \"description\": \"\"\n      }\n    },\n    {\n      \"column\": \"Club\",\n      \"properties\": {\n        \"dtype\": \"category\",\n        \"num_unique_values\": 5,\n        \"samples\": [\n          \" Al-Ittihad - Roshn Saudi League         \",\n          \" -                                       \",\n          \" Al-Hilal (KSA) - Roshn Saudi League     \"\n        ],\n        \"semantic_type\": \"\",\n        \"description\": \"\"\n      }\n    },\n    {\n      \"column\": \"Division\",\n      \"properties\": {\n        \"dtype\": \"category\",\n        \"num_unique_values\": 792,\n        \"samples\": [\n          \" Guadeloupe Ligue R\\u00e9gionale 1                       \",\n          \" Al-Manaseer Jordanian Pro League 2nd Division      \",\n          \" Chinese Taipei Football Premier League             \"\n        ],\n        \"semantic_type\": \"\",\n        \"description\": \"\"\n      }\n    },\n    {\n      \"column\": \"Based\",\n      \"properties\": {\n        \"dtype\": \"category\",\n        \"num_unique_values\": 837,\n        \"samples\": [\n          \" Argentina (Primera Nacional)                            \",\n          \" Maldives (Second Division)                              \",\n          \" Norway (Eliteserien)                                    \"\n        ],\n        \"semantic_type\": \"\",\n        \"description\": \"\"\n      }\n    },\n    {\n      \"column\": \"Nat\",\n      \"properties\": {\n        \"dtype\": \"category\",\n        \"num_unique_values\": 217,\n        \"samples\": [\n          \" SMN \",\n          \" AIA \",\n          \" MTQ \"\n        ],\n        \"semantic_type\": \"\",\n        \"description\": \"\"\n      }\n    },\n    {\n      \"column\": \"EU National\",\n      \"properties\": {\n        \"dtype\": \"category\",\n        \"num_unique_values\": 2,\n        \"samples\": [\n          \" No          \",\n          \" Yes         \"\n        ],\n        \"semantic_type\": \"\",\n        \"description\": \"\"\n      }\n    },\n    {\n      \"column\": \"Caps\",\n      \"properties\": {\n        \"dtype\": \"number\",\n        \"std\": 13.665878474641817,\n        \"min\": 0.0,\n        \"max\": 200.0,\n        \"num_unique_values\": 153,\n        \"samples\": [\n          59.0,\n          17.0\n        ],\n        \"semantic_type\": \"\",\n        \"description\": \"\"\n      }\n    },\n    {\n      \"column\": \"AT Apps\",\n      \"properties\": {\n        \"dtype\": \"category\",\n        \"num_unique_values\": 630,\n        \"samples\": [\n          \" 468     \",\n          \" 397     \"\n        ],\n        \"semantic_type\": \"\",\n        \"description\": \"\"\n      }\n    },\n    {\n      \"column\": \"Position\",\n      \"properties\": {\n        \"dtype\": \"category\",\n        \"num_unique_values\": 7,\n        \"samples\": [\n          \" ST (C)           \",\n          \" AM (LC), ST (C)  \"\n        ],\n        \"semantic_type\": \"\",\n        \"description\": \"\"\n      }\n    },\n    {\n      \"column\": \"Age\",\n      \"properties\": {\n        \"dtype\": \"number\",\n        \"std\": 5.328113547582666,\n        \"min\": 17.0,\n        \"max\": 45.0,\n        \"num_unique_values\": 29,\n        \"samples\": [\n          45.0,\n          21.0\n        ],\n        \"semantic_type\": \"\",\n        \"description\": \"\"\n      }\n    },\n    {\n      \"column\": \"CR\",\n      \"properties\": {\n        \"dtype\": \"category\",\n        \"num_unique_values\": 5051,\n        \"samples\": [\n          \" 1,008  \",\n          \" 5,958  \"\n        ],\n        \"semantic_type\": \"\",\n        \"description\": \"\"\n      }\n    },\n    {\n      \"column\": \"Begins\",\n      \"properties\": {\n        \"dtype\": \"object\",\n        \"num_unique_values\": 1366,\n        \"samples\": [\n          \" 6/11/2020  \",\n          \" 2/11/2022  \"\n        ],\n        \"semantic_type\": \"\",\n        \"description\": \"\"\n      }\n    },\n    {\n      \"column\": \"Expires\",\n      \"properties\": {\n        \"dtype\": \"category\",\n        \"num_unique_values\": 199,\n        \"samples\": [\n          \" 15/11/2023 \",\n          \" 31/12/2027 \"\n        ],\n        \"semantic_type\": \"\",\n        \"description\": \"\"\n      }\n    },\n    {\n      \"column\": \"Last Club\",\n      \"properties\": {\n        \"dtype\": \"category\",\n        \"num_unique_values\": 5200,\n        \"samples\": [\n          \" Getafe B                            \",\n          \" Gladbach                            \"\n        ],\n        \"semantic_type\": \"\",\n        \"description\": \"\"\n      }\n    },\n    {\n      \"column\": \"Last Trans. Fee\",\n      \"properties\": {\n        \"dtype\": \"category\",\n        \"num_unique_values\": 355,\n        \"samples\": [\n          \" \\u20ac325K           \",\n          \" \\u20ac88M            \"\n        ],\n        \"semantic_type\": \"\",\n        \"description\": \"\"\n      }\n    },\n    {\n      \"column\": \"Salary\",\n      \"properties\": {\n        \"dtype\": \"category\",\n        \"num_unique_values\": 1965,\n        \"samples\": [\n          \" \\u20ac3,400 p/a       \",\n          \" \\u20ac817,000 p/a     \"\n        ],\n        \"semantic_type\": \"\",\n        \"description\": \"\"\n      }\n    }\n  ]\n}",
              "type": "dataframe",
              "variable_name": "df"
            },
            "text/html": [
              "\n",
              "  <div id=\"df-d5cd0b96-638a-4a20-bcb3-1c8e88a96fef\" class=\"colab-df-container\">\n",
              "    <div>\n",
              "<style scoped>\n",
              "    .dataframe tbody tr th:only-of-type {\n",
              "        vertical-align: middle;\n",
              "    }\n",
              "\n",
              "    .dataframe tbody tr th {\n",
              "        vertical-align: top;\n",
              "    }\n",
              "\n",
              "    .dataframe thead th {\n",
              "        text-align: right;\n",
              "    }\n",
              "</style>\n",
              "<table border=\"1\" class=\"dataframe\">\n",
              "  <thead>\n",
              "    <tr style=\"text-align: right;\">\n",
              "      <th></th>\n",
              "      <th>Name</th>\n",
              "      <th>Club</th>\n",
              "      <th>Division</th>\n",
              "      <th>Based</th>\n",
              "      <th>Nat</th>\n",
              "      <th>EU National</th>\n",
              "      <th>Caps</th>\n",
              "      <th>AT Apps</th>\n",
              "      <th>Position</th>\n",
              "      <th>Age</th>\n",
              "      <th>CR</th>\n",
              "      <th>Begins</th>\n",
              "      <th>Expires</th>\n",
              "      <th>Last Club</th>\n",
              "      <th>Last Trans. Fee</th>\n",
              "      <th>Salary</th>\n",
              "    </tr>\n",
              "  </thead>\n",
              "  <tbody>\n",
              "    <tr>\n",
              "      <th>0</th>\n",
              "      <td>Cristiano Ronaldo - Portuguese</td>\n",
              "      <td>Al-Nassr (KSA) - Roshn Saudi League</td>\n",
              "      <td>Roshn Saudi League                           ...</td>\n",
              "      <td>Saudi Arabia (Saudi Pro League)              ...</td>\n",
              "      <td>POR</td>\n",
              "      <td>Yes</td>\n",
              "      <td>200.0</td>\n",
              "      <td>673</td>\n",
              "      <td>ST (C)</td>\n",
              "      <td>38.0</td>\n",
              "      <td>7,629</td>\n",
              "      <td>31/12/2022</td>\n",
              "      <td>30/6/2025</td>\n",
              "      <td></td>\n",
              "      <td>-</td>\n",
              "      <td>€203,478,000 p/a</td>\n",
              "    </tr>\n",
              "    <tr>\n",
              "      <th>1</th>\n",
              "      <td>Karim Benzema - French</td>\n",
              "      <td>Al-Ittihad - Roshn Saudi League</td>\n",
              "      <td>Roshn Saudi League                           ...</td>\n",
              "      <td>Saudi Arabia (Saudi Pro League)              ...</td>\n",
              "      <td>FRA</td>\n",
              "      <td>Yes</td>\n",
              "      <td>97.0</td>\n",
              "      <td>555</td>\n",
              "      <td>ST (C)</td>\n",
              "      <td>35.0</td>\n",
              "      <td>8,250</td>\n",
              "      <td>1/7/2023</td>\n",
              "      <td>30/6/2025</td>\n",
              "      <td></td>\n",
              "      <td>-</td>\n",
              "      <td>€199,452,000 p/a</td>\n",
              "    </tr>\n",
              "    <tr>\n",
              "      <th>2</th>\n",
              "      <td>Neymar - Brazilian</td>\n",
              "      <td>Al-Hilal (KSA) - Roshn Saudi League</td>\n",
              "      <td>Roshn Saudi League                           ...</td>\n",
              "      <td>Saudi Arabia (Saudi Pro League)              ...</td>\n",
              "      <td>BRA</td>\n",
              "      <td>Yes</td>\n",
              "      <td>124.0</td>\n",
              "      <td>340</td>\n",
              "      <td>AM (LC), ST (C)</td>\n",
              "      <td>31.0</td>\n",
              "      <td>9,000</td>\n",
              "      <td>15/8/2023</td>\n",
              "      <td>30/6/2025</td>\n",
              "      <td>Paris Saint-Germain</td>\n",
              "      <td>€90M</td>\n",
              "      <td>€149,589,000 p/a</td>\n",
              "    </tr>\n",
              "    <tr>\n",
              "      <th>3</th>\n",
              "      <td>Ezri Konsa - English</td>\n",
              "      <td>Al-Hilal (KSA) - Roshn Saudi League</td>\n",
              "      <td>Roshn Saudi League                           ...</td>\n",
              "      <td>Saudi Arabia (Saudi Pro League)              ...</td>\n",
              "      <td>ENG</td>\n",
              "      <td>No</td>\n",
              "      <td>0.0</td>\n",
              "      <td>245</td>\n",
              "      <td>D (C)</td>\n",
              "      <td>25.0</td>\n",
              "      <td>7,414</td>\n",
              "      <td>27/8/2023</td>\n",
              "      <td>30/6/2027</td>\n",
              "      <td>Aston Villa</td>\n",
              "      <td>€55M</td>\n",
              "      <td>€74,157,000 p/a</td>\n",
              "    </tr>\n",
              "    <tr>\n",
              "      <th>4</th>\n",
              "      <td>Kylian Mbappé - French</td>\n",
              "      <td>Paris Saint-Germain - Ligue 1 Uber Eats</td>\n",
              "      <td>Ligue 1 Uber Eats                            ...</td>\n",
              "      <td>France (Ligue 1)                             ...</td>\n",
              "      <td>FRA</td>\n",
              "      <td>Yes</td>\n",
              "      <td>70.0</td>\n",
              "      <td>221</td>\n",
              "      <td>AM (RL), ST (C)</td>\n",
              "      <td>24.0</td>\n",
              "      <td>9,415</td>\n",
              "      <td>22/7/2023</td>\n",
              "      <td>30/6/2028</td>\n",
              "      <td>Monaco</td>\n",
              "      <td>€186M</td>\n",
              "      <td>€48,467,000 p/a</td>\n",
              "    </tr>\n",
              "  </tbody>\n",
              "</table>\n",
              "</div>\n",
              "    <div class=\"colab-df-buttons\">\n",
              "\n",
              "  <div class=\"colab-df-container\">\n",
              "    <button class=\"colab-df-convert\" onclick=\"convertToInteractive('df-d5cd0b96-638a-4a20-bcb3-1c8e88a96fef')\"\n",
              "            title=\"Convert this dataframe to an interactive table.\"\n",
              "            style=\"display:none;\">\n",
              "\n",
              "  <svg xmlns=\"http://www.w3.org/2000/svg\" height=\"24px\" viewBox=\"0 -960 960 960\">\n",
              "    <path d=\"M120-120v-720h720v720H120Zm60-500h600v-160H180v160Zm220 220h160v-160H400v160Zm0 220h160v-160H400v160ZM180-400h160v-160H180v160Zm440 0h160v-160H620v160ZM180-180h160v-160H180v160Zm440 0h160v-160H620v160Z\"/>\n",
              "  </svg>\n",
              "    </button>\n",
              "\n",
              "  <style>\n",
              "    .colab-df-container {\n",
              "      display:flex;\n",
              "      gap: 12px;\n",
              "    }\n",
              "\n",
              "    .colab-df-convert {\n",
              "      background-color: #E8F0FE;\n",
              "      border: none;\n",
              "      border-radius: 50%;\n",
              "      cursor: pointer;\n",
              "      display: none;\n",
              "      fill: #1967D2;\n",
              "      height: 32px;\n",
              "      padding: 0 0 0 0;\n",
              "      width: 32px;\n",
              "    }\n",
              "\n",
              "    .colab-df-convert:hover {\n",
              "      background-color: #E2EBFA;\n",
              "      box-shadow: 0px 1px 2px rgba(60, 64, 67, 0.3), 0px 1px 3px 1px rgba(60, 64, 67, 0.15);\n",
              "      fill: #174EA6;\n",
              "    }\n",
              "\n",
              "    .colab-df-buttons div {\n",
              "      margin-bottom: 4px;\n",
              "    }\n",
              "\n",
              "    [theme=dark] .colab-df-convert {\n",
              "      background-color: #3B4455;\n",
              "      fill: #D2E3FC;\n",
              "    }\n",
              "\n",
              "    [theme=dark] .colab-df-convert:hover {\n",
              "      background-color: #434B5C;\n",
              "      box-shadow: 0px 1px 3px 1px rgba(0, 0, 0, 0.15);\n",
              "      filter: drop-shadow(0px 1px 2px rgba(0, 0, 0, 0.3));\n",
              "      fill: #FFFFFF;\n",
              "    }\n",
              "  </style>\n",
              "\n",
              "    <script>\n",
              "      const buttonEl =\n",
              "        document.querySelector('#df-d5cd0b96-638a-4a20-bcb3-1c8e88a96fef button.colab-df-convert');\n",
              "      buttonEl.style.display =\n",
              "        google.colab.kernel.accessAllowed ? 'block' : 'none';\n",
              "\n",
              "      async function convertToInteractive(key) {\n",
              "        const element = document.querySelector('#df-d5cd0b96-638a-4a20-bcb3-1c8e88a96fef');\n",
              "        const dataTable =\n",
              "          await google.colab.kernel.invokeFunction('convertToInteractive',\n",
              "                                                    [key], {});\n",
              "        if (!dataTable) return;\n",
              "\n",
              "        const docLinkHtml = 'Like what you see? Visit the ' +\n",
              "          '<a target=\"_blank\" href=https://colab.research.google.com/notebooks/data_table.ipynb>data table notebook</a>'\n",
              "          + ' to learn more about interactive tables.';\n",
              "        element.innerHTML = '';\n",
              "        dataTable['output_type'] = 'display_data';\n",
              "        await google.colab.output.renderOutput(dataTable, element);\n",
              "        const docLink = document.createElement('div');\n",
              "        docLink.innerHTML = docLinkHtml;\n",
              "        element.appendChild(docLink);\n",
              "      }\n",
              "    </script>\n",
              "  </div>\n",
              "\n",
              "\n",
              "<div id=\"df-9bebc307-6b1a-4597-886a-b78d70dab15c\">\n",
              "  <button class=\"colab-df-quickchart\" onclick=\"quickchart('df-9bebc307-6b1a-4597-886a-b78d70dab15c')\"\n",
              "            title=\"Suggest charts\"\n",
              "            style=\"display:none;\">\n",
              "\n",
              "<svg xmlns=\"http://www.w3.org/2000/svg\" height=\"24px\"viewBox=\"0 0 24 24\"\n",
              "     width=\"24px\">\n",
              "    <g>\n",
              "        <path d=\"M19 3H5c-1.1 0-2 .9-2 2v14c0 1.1.9 2 2 2h14c1.1 0 2-.9 2-2V5c0-1.1-.9-2-2-2zM9 17H7v-7h2v7zm4 0h-2V7h2v10zm4 0h-2v-4h2v4z\"/>\n",
              "    </g>\n",
              "</svg>\n",
              "  </button>\n",
              "\n",
              "<style>\n",
              "  .colab-df-quickchart {\n",
              "      --bg-color: #E8F0FE;\n",
              "      --fill-color: #1967D2;\n",
              "      --hover-bg-color: #E2EBFA;\n",
              "      --hover-fill-color: #174EA6;\n",
              "      --disabled-fill-color: #AAA;\n",
              "      --disabled-bg-color: #DDD;\n",
              "  }\n",
              "\n",
              "  [theme=dark] .colab-df-quickchart {\n",
              "      --bg-color: #3B4455;\n",
              "      --fill-color: #D2E3FC;\n",
              "      --hover-bg-color: #434B5C;\n",
              "      --hover-fill-color: #FFFFFF;\n",
              "      --disabled-bg-color: #3B4455;\n",
              "      --disabled-fill-color: #666;\n",
              "  }\n",
              "\n",
              "  .colab-df-quickchart {\n",
              "    background-color: var(--bg-color);\n",
              "    border: none;\n",
              "    border-radius: 50%;\n",
              "    cursor: pointer;\n",
              "    display: none;\n",
              "    fill: var(--fill-color);\n",
              "    height: 32px;\n",
              "    padding: 0;\n",
              "    width: 32px;\n",
              "  }\n",
              "\n",
              "  .colab-df-quickchart:hover {\n",
              "    background-color: var(--hover-bg-color);\n",
              "    box-shadow: 0 1px 2px rgba(60, 64, 67, 0.3), 0 1px 3px 1px rgba(60, 64, 67, 0.15);\n",
              "    fill: var(--button-hover-fill-color);\n",
              "  }\n",
              "\n",
              "  .colab-df-quickchart-complete:disabled,\n",
              "  .colab-df-quickchart-complete:disabled:hover {\n",
              "    background-color: var(--disabled-bg-color);\n",
              "    fill: var(--disabled-fill-color);\n",
              "    box-shadow: none;\n",
              "  }\n",
              "\n",
              "  .colab-df-spinner {\n",
              "    border: 2px solid var(--fill-color);\n",
              "    border-color: transparent;\n",
              "    border-bottom-color: var(--fill-color);\n",
              "    animation:\n",
              "      spin 1s steps(1) infinite;\n",
              "  }\n",
              "\n",
              "  @keyframes spin {\n",
              "    0% {\n",
              "      border-color: transparent;\n",
              "      border-bottom-color: var(--fill-color);\n",
              "      border-left-color: var(--fill-color);\n",
              "    }\n",
              "    20% {\n",
              "      border-color: transparent;\n",
              "      border-left-color: var(--fill-color);\n",
              "      border-top-color: var(--fill-color);\n",
              "    }\n",
              "    30% {\n",
              "      border-color: transparent;\n",
              "      border-left-color: var(--fill-color);\n",
              "      border-top-color: var(--fill-color);\n",
              "      border-right-color: var(--fill-color);\n",
              "    }\n",
              "    40% {\n",
              "      border-color: transparent;\n",
              "      border-right-color: var(--fill-color);\n",
              "      border-top-color: var(--fill-color);\n",
              "    }\n",
              "    60% {\n",
              "      border-color: transparent;\n",
              "      border-right-color: var(--fill-color);\n",
              "    }\n",
              "    80% {\n",
              "      border-color: transparent;\n",
              "      border-right-color: var(--fill-color);\n",
              "      border-bottom-color: var(--fill-color);\n",
              "    }\n",
              "    90% {\n",
              "      border-color: transparent;\n",
              "      border-bottom-color: var(--fill-color);\n",
              "    }\n",
              "  }\n",
              "</style>\n",
              "\n",
              "  <script>\n",
              "    async function quickchart(key) {\n",
              "      const quickchartButtonEl =\n",
              "        document.querySelector('#' + key + ' button');\n",
              "      quickchartButtonEl.disabled = true;  // To prevent multiple clicks.\n",
              "      quickchartButtonEl.classList.add('colab-df-spinner');\n",
              "      try {\n",
              "        const charts = await google.colab.kernel.invokeFunction(\n",
              "            'suggestCharts', [key], {});\n",
              "      } catch (error) {\n",
              "        console.error('Error during call to suggestCharts:', error);\n",
              "      }\n",
              "      quickchartButtonEl.classList.remove('colab-df-spinner');\n",
              "      quickchartButtonEl.classList.add('colab-df-quickchart-complete');\n",
              "    }\n",
              "    (() => {\n",
              "      let quickchartButtonEl =\n",
              "        document.querySelector('#df-9bebc307-6b1a-4597-886a-b78d70dab15c button');\n",
              "      quickchartButtonEl.style.display =\n",
              "        google.colab.kernel.accessAllowed ? 'block' : 'none';\n",
              "    })();\n",
              "  </script>\n",
              "</div>\n",
              "\n",
              "    </div>\n",
              "  </div>\n"
            ],
            "text/plain": [
              "                               Name  \\\n",
              "0   Cristiano Ronaldo - Portuguese    \n",
              "1   Karim Benzema - French            \n",
              "2   Neymar - Brazilian                \n",
              "3   Ezri Konsa - English              \n",
              "4   Kylian Mbappé - French            \n",
              "\n",
              "                                        Club  \\\n",
              "0   Al-Nassr (KSA) - Roshn Saudi League        \n",
              "1   Al-Ittihad - Roshn Saudi League            \n",
              "2   Al-Hilal (KSA) - Roshn Saudi League        \n",
              "3   Al-Hilal (KSA) - Roshn Saudi League        \n",
              "4   Paris Saint-Germain - Ligue 1 Uber Eats    \n",
              "\n",
              "                                            Division  \\\n",
              "0   Roshn Saudi League                           ...   \n",
              "1   Roshn Saudi League                           ...   \n",
              "2   Roshn Saudi League                           ...   \n",
              "3   Roshn Saudi League                           ...   \n",
              "4   Ligue 1 Uber Eats                            ...   \n",
              "\n",
              "                                               Based    Nat    EU National  \\\n",
              "0   Saudi Arabia (Saudi Pro League)              ...   POR    Yes            \n",
              "1   Saudi Arabia (Saudi Pro League)              ...   FRA    Yes            \n",
              "2   Saudi Arabia (Saudi Pro League)              ...   BRA    Yes            \n",
              "3   Saudi Arabia (Saudi Pro League)              ...   ENG    No             \n",
              "4   France (Ligue 1)                             ...   FRA    Yes            \n",
              "\n",
              "    Caps    AT Apps            Position   Age        CR        Begins  \\\n",
              "0  200.0   673        ST (C)             38.0   7,629     31/12/2022    \n",
              "1   97.0   555        ST (C)             35.0   8,250     1/7/2023      \n",
              "2  124.0   340        AM (LC), ST (C)    31.0   9,000     15/8/2023     \n",
              "3    0.0   245        D (C)              25.0   7,414     27/8/2023     \n",
              "4   70.0   221        AM (RL), ST (C)    24.0   9,415     22/7/2023     \n",
              "\n",
              "        Expires                              Last Club    Last Trans. Fee  \\\n",
              "0   30/6/2025                                            -                  \n",
              "1   30/6/2025                                            -                  \n",
              "2   30/6/2025     Paris Saint-Germain                    €90M               \n",
              "3   30/6/2027     Aston Villa                            €55M               \n",
              "4   30/6/2028     Monaco                                 €186M              \n",
              "\n",
              "               Salary  \n",
              "0   €203,478,000 p/a   \n",
              "1   €199,452,000 p/a   \n",
              "2   €149,589,000 p/a   \n",
              "3   €74,157,000 p/a    \n",
              "4   €48,467,000 p/a    "
            ]
          },
          "execution_count": 61,
          "metadata": {},
          "output_type": "execute_result"
        }
      ],
      "source": [
        "df.head()"
      ]
    },
    {
      "cell_type": "code",
      "execution_count": 62,
      "metadata": {
        "colab": {
          "base_uri": "https://localhost:8080/",
          "height": 297
        },
        "execution": {
          "iopub.execute_input": "2024-04-29T14:04:32.710960Z",
          "iopub.status.busy": "2024-04-29T14:04:32.709968Z",
          "iopub.status.idle": "2024-04-29T14:04:32.773792Z",
          "shell.execute_reply": "2024-04-29T14:04:32.772605Z",
          "shell.execute_reply.started": "2024-04-29T14:04:32.710921Z"
        },
        "id": "rTOimfg9eJvP",
        "outputId": "17849af6-7232-4038-9eaf-bc2174de11ac"
      },
      "outputs": [
        {
          "data": {
            "application/vnd.google.colaboratory.intrinsic+json": {
              "summary": "{\n  \"name\": \"df\",\n  \"rows\": 8,\n  \"fields\": [\n    {\n      \"column\": \"Caps\",\n      \"properties\": {\n        \"dtype\": \"number\",\n        \"std\": 14410.757775556169,\n        \"min\": 0.0,\n        \"max\": 40791.0,\n        \"num_unique_values\": 6,\n        \"samples\": [\n          40791.0,\n          5.144370081635655,\n          200.0\n        ],\n        \"semantic_type\": \"\",\n        \"description\": \"\"\n      }\n    },\n    {\n      \"column\": \"Age\",\n      \"properties\": {\n        \"dtype\": \"number\",\n        \"std\": 14413.340377603508,\n        \"min\": 5.328113547582666,\n        \"max\": 40791.0,\n        \"num_unique_values\": 8,\n        \"samples\": [\n          25.177563678262363,\n          25.0,\n          40791.0\n        ],\n        \"semantic_type\": \"\",\n        \"description\": \"\"\n      }\n    }\n  ]\n}",
              "type": "dataframe"
            },
            "text/html": [
              "\n",
              "  <div id=\"df-fdcf2ddb-7649-4564-83ee-638538d21719\" class=\"colab-df-container\">\n",
              "    <div>\n",
              "<style scoped>\n",
              "    .dataframe tbody tr th:only-of-type {\n",
              "        vertical-align: middle;\n",
              "    }\n",
              "\n",
              "    .dataframe tbody tr th {\n",
              "        vertical-align: top;\n",
              "    }\n",
              "\n",
              "    .dataframe thead th {\n",
              "        text-align: right;\n",
              "    }\n",
              "</style>\n",
              "<table border=\"1\" class=\"dataframe\">\n",
              "  <thead>\n",
              "    <tr style=\"text-align: right;\">\n",
              "      <th></th>\n",
              "      <th>Caps</th>\n",
              "      <th>Age</th>\n",
              "    </tr>\n",
              "  </thead>\n",
              "  <tbody>\n",
              "    <tr>\n",
              "      <th>count</th>\n",
              "      <td>40791.000000</td>\n",
              "      <td>40791.000000</td>\n",
              "    </tr>\n",
              "    <tr>\n",
              "      <th>mean</th>\n",
              "      <td>5.144370</td>\n",
              "      <td>25.177564</td>\n",
              "    </tr>\n",
              "    <tr>\n",
              "      <th>std</th>\n",
              "      <td>13.665878</td>\n",
              "      <td>5.328114</td>\n",
              "    </tr>\n",
              "    <tr>\n",
              "      <th>min</th>\n",
              "      <td>0.000000</td>\n",
              "      <td>17.000000</td>\n",
              "    </tr>\n",
              "    <tr>\n",
              "      <th>25%</th>\n",
              "      <td>0.000000</td>\n",
              "      <td>21.000000</td>\n",
              "    </tr>\n",
              "    <tr>\n",
              "      <th>50%</th>\n",
              "      <td>0.000000</td>\n",
              "      <td>25.000000</td>\n",
              "    </tr>\n",
              "    <tr>\n",
              "      <th>75%</th>\n",
              "      <td>3.000000</td>\n",
              "      <td>29.000000</td>\n",
              "    </tr>\n",
              "    <tr>\n",
              "      <th>max</th>\n",
              "      <td>200.000000</td>\n",
              "      <td>45.000000</td>\n",
              "    </tr>\n",
              "  </tbody>\n",
              "</table>\n",
              "</div>\n",
              "    <div class=\"colab-df-buttons\">\n",
              "\n",
              "  <div class=\"colab-df-container\">\n",
              "    <button class=\"colab-df-convert\" onclick=\"convertToInteractive('df-fdcf2ddb-7649-4564-83ee-638538d21719')\"\n",
              "            title=\"Convert this dataframe to an interactive table.\"\n",
              "            style=\"display:none;\">\n",
              "\n",
              "  <svg xmlns=\"http://www.w3.org/2000/svg\" height=\"24px\" viewBox=\"0 -960 960 960\">\n",
              "    <path d=\"M120-120v-720h720v720H120Zm60-500h600v-160H180v160Zm220 220h160v-160H400v160Zm0 220h160v-160H400v160ZM180-400h160v-160H180v160Zm440 0h160v-160H620v160ZM180-180h160v-160H180v160Zm440 0h160v-160H620v160Z\"/>\n",
              "  </svg>\n",
              "    </button>\n",
              "\n",
              "  <style>\n",
              "    .colab-df-container {\n",
              "      display:flex;\n",
              "      gap: 12px;\n",
              "    }\n",
              "\n",
              "    .colab-df-convert {\n",
              "      background-color: #E8F0FE;\n",
              "      border: none;\n",
              "      border-radius: 50%;\n",
              "      cursor: pointer;\n",
              "      display: none;\n",
              "      fill: #1967D2;\n",
              "      height: 32px;\n",
              "      padding: 0 0 0 0;\n",
              "      width: 32px;\n",
              "    }\n",
              "\n",
              "    .colab-df-convert:hover {\n",
              "      background-color: #E2EBFA;\n",
              "      box-shadow: 0px 1px 2px rgba(60, 64, 67, 0.3), 0px 1px 3px 1px rgba(60, 64, 67, 0.15);\n",
              "      fill: #174EA6;\n",
              "    }\n",
              "\n",
              "    .colab-df-buttons div {\n",
              "      margin-bottom: 4px;\n",
              "    }\n",
              "\n",
              "    [theme=dark] .colab-df-convert {\n",
              "      background-color: #3B4455;\n",
              "      fill: #D2E3FC;\n",
              "    }\n",
              "\n",
              "    [theme=dark] .colab-df-convert:hover {\n",
              "      background-color: #434B5C;\n",
              "      box-shadow: 0px 1px 3px 1px rgba(0, 0, 0, 0.15);\n",
              "      filter: drop-shadow(0px 1px 2px rgba(0, 0, 0, 0.3));\n",
              "      fill: #FFFFFF;\n",
              "    }\n",
              "  </style>\n",
              "\n",
              "    <script>\n",
              "      const buttonEl =\n",
              "        document.querySelector('#df-fdcf2ddb-7649-4564-83ee-638538d21719 button.colab-df-convert');\n",
              "      buttonEl.style.display =\n",
              "        google.colab.kernel.accessAllowed ? 'block' : 'none';\n",
              "\n",
              "      async function convertToInteractive(key) {\n",
              "        const element = document.querySelector('#df-fdcf2ddb-7649-4564-83ee-638538d21719');\n",
              "        const dataTable =\n",
              "          await google.colab.kernel.invokeFunction('convertToInteractive',\n",
              "                                                    [key], {});\n",
              "        if (!dataTable) return;\n",
              "\n",
              "        const docLinkHtml = 'Like what you see? Visit the ' +\n",
              "          '<a target=\"_blank\" href=https://colab.research.google.com/notebooks/data_table.ipynb>data table notebook</a>'\n",
              "          + ' to learn more about interactive tables.';\n",
              "        element.innerHTML = '';\n",
              "        dataTable['output_type'] = 'display_data';\n",
              "        await google.colab.output.renderOutput(dataTable, element);\n",
              "        const docLink = document.createElement('div');\n",
              "        docLink.innerHTML = docLinkHtml;\n",
              "        element.appendChild(docLink);\n",
              "      }\n",
              "    </script>\n",
              "  </div>\n",
              "\n",
              "\n",
              "<div id=\"df-2fc0fd13-ec4e-4584-8f44-eebb41f76b3a\">\n",
              "  <button class=\"colab-df-quickchart\" onclick=\"quickchart('df-2fc0fd13-ec4e-4584-8f44-eebb41f76b3a')\"\n",
              "            title=\"Suggest charts\"\n",
              "            style=\"display:none;\">\n",
              "\n",
              "<svg xmlns=\"http://www.w3.org/2000/svg\" height=\"24px\"viewBox=\"0 0 24 24\"\n",
              "     width=\"24px\">\n",
              "    <g>\n",
              "        <path d=\"M19 3H5c-1.1 0-2 .9-2 2v14c0 1.1.9 2 2 2h14c1.1 0 2-.9 2-2V5c0-1.1-.9-2-2-2zM9 17H7v-7h2v7zm4 0h-2V7h2v10zm4 0h-2v-4h2v4z\"/>\n",
              "    </g>\n",
              "</svg>\n",
              "  </button>\n",
              "\n",
              "<style>\n",
              "  .colab-df-quickchart {\n",
              "      --bg-color: #E8F0FE;\n",
              "      --fill-color: #1967D2;\n",
              "      --hover-bg-color: #E2EBFA;\n",
              "      --hover-fill-color: #174EA6;\n",
              "      --disabled-fill-color: #AAA;\n",
              "      --disabled-bg-color: #DDD;\n",
              "  }\n",
              "\n",
              "  [theme=dark] .colab-df-quickchart {\n",
              "      --bg-color: #3B4455;\n",
              "      --fill-color: #D2E3FC;\n",
              "      --hover-bg-color: #434B5C;\n",
              "      --hover-fill-color: #FFFFFF;\n",
              "      --disabled-bg-color: #3B4455;\n",
              "      --disabled-fill-color: #666;\n",
              "  }\n",
              "\n",
              "  .colab-df-quickchart {\n",
              "    background-color: var(--bg-color);\n",
              "    border: none;\n",
              "    border-radius: 50%;\n",
              "    cursor: pointer;\n",
              "    display: none;\n",
              "    fill: var(--fill-color);\n",
              "    height: 32px;\n",
              "    padding: 0;\n",
              "    width: 32px;\n",
              "  }\n",
              "\n",
              "  .colab-df-quickchart:hover {\n",
              "    background-color: var(--hover-bg-color);\n",
              "    box-shadow: 0 1px 2px rgba(60, 64, 67, 0.3), 0 1px 3px 1px rgba(60, 64, 67, 0.15);\n",
              "    fill: var(--button-hover-fill-color);\n",
              "  }\n",
              "\n",
              "  .colab-df-quickchart-complete:disabled,\n",
              "  .colab-df-quickchart-complete:disabled:hover {\n",
              "    background-color: var(--disabled-bg-color);\n",
              "    fill: var(--disabled-fill-color);\n",
              "    box-shadow: none;\n",
              "  }\n",
              "\n",
              "  .colab-df-spinner {\n",
              "    border: 2px solid var(--fill-color);\n",
              "    border-color: transparent;\n",
              "    border-bottom-color: var(--fill-color);\n",
              "    animation:\n",
              "      spin 1s steps(1) infinite;\n",
              "  }\n",
              "\n",
              "  @keyframes spin {\n",
              "    0% {\n",
              "      border-color: transparent;\n",
              "      border-bottom-color: var(--fill-color);\n",
              "      border-left-color: var(--fill-color);\n",
              "    }\n",
              "    20% {\n",
              "      border-color: transparent;\n",
              "      border-left-color: var(--fill-color);\n",
              "      border-top-color: var(--fill-color);\n",
              "    }\n",
              "    30% {\n",
              "      border-color: transparent;\n",
              "      border-left-color: var(--fill-color);\n",
              "      border-top-color: var(--fill-color);\n",
              "      border-right-color: var(--fill-color);\n",
              "    }\n",
              "    40% {\n",
              "      border-color: transparent;\n",
              "      border-right-color: var(--fill-color);\n",
              "      border-top-color: var(--fill-color);\n",
              "    }\n",
              "    60% {\n",
              "      border-color: transparent;\n",
              "      border-right-color: var(--fill-color);\n",
              "    }\n",
              "    80% {\n",
              "      border-color: transparent;\n",
              "      border-right-color: var(--fill-color);\n",
              "      border-bottom-color: var(--fill-color);\n",
              "    }\n",
              "    90% {\n",
              "      border-color: transparent;\n",
              "      border-bottom-color: var(--fill-color);\n",
              "    }\n",
              "  }\n",
              "</style>\n",
              "\n",
              "  <script>\n",
              "    async function quickchart(key) {\n",
              "      const quickchartButtonEl =\n",
              "        document.querySelector('#' + key + ' button');\n",
              "      quickchartButtonEl.disabled = true;  // To prevent multiple clicks.\n",
              "      quickchartButtonEl.classList.add('colab-df-spinner');\n",
              "      try {\n",
              "        const charts = await google.colab.kernel.invokeFunction(\n",
              "            'suggestCharts', [key], {});\n",
              "      } catch (error) {\n",
              "        console.error('Error during call to suggestCharts:', error);\n",
              "      }\n",
              "      quickchartButtonEl.classList.remove('colab-df-spinner');\n",
              "      quickchartButtonEl.classList.add('colab-df-quickchart-complete');\n",
              "    }\n",
              "    (() => {\n",
              "      let quickchartButtonEl =\n",
              "        document.querySelector('#df-2fc0fd13-ec4e-4584-8f44-eebb41f76b3a button');\n",
              "      quickchartButtonEl.style.display =\n",
              "        google.colab.kernel.accessAllowed ? 'block' : 'none';\n",
              "    })();\n",
              "  </script>\n",
              "</div>\n",
              "\n",
              "    </div>\n",
              "  </div>\n"
            ],
            "text/plain": [
              "               Caps           Age\n",
              "count  40791.000000  40791.000000\n",
              "mean       5.144370     25.177564\n",
              "std       13.665878      5.328114\n",
              "min        0.000000     17.000000\n",
              "25%        0.000000     21.000000\n",
              "50%        0.000000     25.000000\n",
              "75%        3.000000     29.000000\n",
              "max      200.000000     45.000000"
            ]
          },
          "execution_count": 62,
          "metadata": {},
          "output_type": "execute_result"
        }
      ],
      "source": [
        "df.describe()"
      ]
    },
    {
      "cell_type": "code",
      "execution_count": 63,
      "metadata": {
        "id": "ycbI-IQJtB6V"
      },
      "outputs": [],
      "source": [
        "for i in df.columns:\n",
        "    df[i] = df[i].apply(lambda x: str(x).strip())"
      ]
    },
    {
      "cell_type": "code",
      "execution_count": 64,
      "metadata": {
        "id": "SC30cHIFtB6V"
      },
      "outputs": [],
      "source": [
        "df.replace('-', np.nan, inplace=True)\n",
        "df.replace('', np.nan, inplace=True)"
      ]
    },
    {
      "cell_type": "code",
      "execution_count": 65,
      "metadata": {
        "colab": {
          "base_uri": "https://localhost:8080/"
        },
        "id": "3hrvWcFRtB6W",
        "outputId": "9571f077-bc52-4372-ddff-a3e2c9425f0e"
      },
      "outputs": [
        {
          "data": {
            "text/plain": [
              "Name               0.000000\n",
              "Club               0.999779\n",
              "Division           0.005467\n",
              "Based              0.000000\n",
              "Nat                0.000000\n",
              "EU National        0.000000\n",
              "Caps               0.000000\n",
              "AT Apps            0.134270\n",
              "Position           0.999779\n",
              "Age                0.000000\n",
              "CR                 0.000000\n",
              "Begins             0.000000\n",
              "Expires            0.000564\n",
              "Last Club          0.354098\n",
              "Last Trans. Fee    0.566326\n",
              "Salary             0.000000\n",
              "dtype: float64"
            ]
          },
          "execution_count": 65,
          "metadata": {},
          "output_type": "execute_result"
        }
      ],
      "source": [
        "null_values = df.isna().sum()/len(df)\n",
        "null_values"
      ]
    },
    {
      "cell_type": "code",
      "execution_count": 66,
      "metadata": {
        "colab": {
          "base_uri": "https://localhost:8080/",
          "height": 536
        },
        "id": "jqSDkwq0tB6W",
        "outputId": "757b83ce-ca86-4251-bc29-be969f8506a8"
      },
      "outputs": [
        {
          "data": {
            "text/plain": [
              "<Axes: >"
            ]
          },
          "execution_count": 66,
          "metadata": {},
          "output_type": "execute_result"
        },
        {
          "data": {
            "image/png": "[encoded data removed]",
            "text/plain": [
              "<Figure size 640x480 with 1 Axes>"
            ]
          },
          "metadata": {},
          "output_type": "display_data"
        }
      ],
      "source": [
        "null_values[null_values>0].plot(kind='bar')"
      ]
    },
    {
      "cell_type": "markdown",
      "metadata": {
        "id": "yW1Ja2cMfqDD"
      },
      "source": [
        "**Data Preprocessing**"
      ]
    },
    {
      "cell_type": "code",
      "execution_count": 67,
      "metadata": {
        "colab": {
          "base_uri": "https://localhost:8080/",
          "height": 323
        },
        "id": "Ea4qOmDSf-LK",
        "outputId": "02e920ca-38a3-485a-b3c2-8a7dde9d9f6c"
      },
      "outputs": [
        {
          "data": {
            "application/vnd.google.colaboratory.intrinsic+json": {
              "repr_error": "0",
              "type": "dataframe"
            },
            "text/html": [
              "\n",
              "  <div id=\"df-f4ba32b4-0ad2-4900-b52c-f08d3e294b09\" class=\"colab-df-container\">\n",
              "    <div>\n",
              "<style scoped>\n",
              "    .dataframe tbody tr th:only-of-type {\n",
              "        vertical-align: middle;\n",
              "    }\n",
              "\n",
              "    .dataframe tbody tr th {\n",
              "        vertical-align: top;\n",
              "    }\n",
              "\n",
              "    .dataframe thead th {\n",
              "        text-align: right;\n",
              "    }\n",
              "</style>\n",
              "<table border=\"1\" class=\"dataframe\">\n",
              "  <thead>\n",
              "    <tr style=\"text-align: right;\">\n",
              "      <th></th>\n",
              "      <th>Division</th>\n",
              "      <th>Based</th>\n",
              "      <th>Nat</th>\n",
              "      <th>EU National</th>\n",
              "      <th>Caps</th>\n",
              "      <th>AT Apps</th>\n",
              "      <th>Age</th>\n",
              "      <th>CR</th>\n",
              "      <th>Begins</th>\n",
              "      <th>Expires</th>\n",
              "      <th>Last Club</th>\n",
              "      <th>Last Trans. Fee</th>\n",
              "      <th>Salary</th>\n",
              "    </tr>\n",
              "  </thead>\n",
              "  <tbody>\n",
              "    <tr>\n",
              "      <th>766</th>\n",
              "      <td>Premier League</td>\n",
              "      <td>England (Premier League)</td>\n",
              "      <td>USA</td>\n",
              "      <td>No</td>\n",
              "      <td>36.0</td>\n",
              "      <td>185</td>\n",
              "      <td>24.0</td>\n",
              "      <td>7,122</td>\n",
              "      <td>20/8/2023</td>\n",
              "      <td>30/6/2028</td>\n",
              "      <td>Leeds Utd</td>\n",
              "      <td>€27M</td>\n",
              "      <td>€3,032,000 p/a</td>\n",
              "    </tr>\n",
              "    <tr>\n",
              "      <th>23869</th>\n",
              "      <td>Ligue 1 Uber Eats</td>\n",
              "      <td>France (Ligue 1)</td>\n",
              "      <td>FRA</td>\n",
              "      <td>Yes</td>\n",
              "      <td>0.0</td>\n",
              "      <td>NaN</td>\n",
              "      <td>17.0</td>\n",
              "      <td>3,609</td>\n",
              "      <td>4/7/2022</td>\n",
              "      <td>30/6/2024</td>\n",
              "      <td>NaN</td>\n",
              "      <td>NaN</td>\n",
              "      <td>€33,500 p/a</td>\n",
              "    </tr>\n",
              "    <tr>\n",
              "      <th>26494</th>\n",
              "      <td>French Regional 1 - Auvergne Rhône Alpes - Gro...</td>\n",
              "      <td>France (R1 - Auvergne RA - C)</td>\n",
              "      <td>FRA</td>\n",
              "      <td>Yes</td>\n",
              "      <td>0.0</td>\n",
              "      <td>1</td>\n",
              "      <td>19.0</td>\n",
              "      <td>3,000</td>\n",
              "      <td>1/7/2023</td>\n",
              "      <td>30/6/2024</td>\n",
              "      <td>NaN</td>\n",
              "      <td>NaN</td>\n",
              "      <td>€25,000 p/a</td>\n",
              "    </tr>\n",
              "    <tr>\n",
              "      <th>26881</th>\n",
              "      <td>French National 3 - Group C</td>\n",
              "      <td>France (National 3 - Group C)</td>\n",
              "      <td>FRA</td>\n",
              "      <td>Yes</td>\n",
              "      <td>0.0</td>\n",
              "      <td>46</td>\n",
              "      <td>26.0</td>\n",
              "      <td>4,300</td>\n",
              "      <td>1/7/2023</td>\n",
              "      <td>30/6/2024</td>\n",
              "      <td>NaN</td>\n",
              "      <td>NaN</td>\n",
              "      <td>€24,500 p/a</td>\n",
              "    </tr>\n",
              "    <tr>\n",
              "      <th>28968</th>\n",
              "      <td>DPR Korea League</td>\n",
              "      <td>North Korea (DPR Korea League)</td>\n",
              "      <td>PRK</td>\n",
              "      <td>No</td>\n",
              "      <td>1.0</td>\n",
              "      <td>11</td>\n",
              "      <td>27.0</td>\n",
              "      <td>4,550</td>\n",
              "      <td>6/7/2020</td>\n",
              "      <td>31/12/2024</td>\n",
              "      <td>NaN</td>\n",
              "      <td>NaN</td>\n",
              "      <td>€19,500 p/a</td>\n",
              "    </tr>\n",
              "  </tbody>\n",
              "</table>\n",
              "</div>\n",
              "    <div class=\"colab-df-buttons\">\n",
              "\n",
              "  <div class=\"colab-df-container\">\n",
              "    <button class=\"colab-df-convert\" onclick=\"convertToInteractive('df-f4ba32b4-0ad2-4900-b52c-f08d3e294b09')\"\n",
              "            title=\"Convert this dataframe to an interactive table.\"\n",
              "            style=\"display:none;\">\n",
              "\n",
              "  <svg xmlns=\"http://www.w3.org/2000/svg\" height=\"24px\" viewBox=\"0 -960 960 960\">\n",
              "    <path d=\"M120-120v-720h720v720H120Zm60-500h600v-160H180v160Zm220 220h160v-160H400v160Zm0 220h160v-160H400v160ZM180-400h160v-160H180v160Zm440 0h160v-160H620v160ZM180-180h160v-160H180v160Zm440 0h160v-160H620v160Z\"/>\n",
              "  </svg>\n",
              "    </button>\n",
              "\n",
              "  <style>\n",
              "    .colab-df-container {\n",
              "      display:flex;\n",
              "      gap: 12px;\n",
              "    }\n",
              "\n",
              "    .colab-df-convert {\n",
              "      background-color: #E8F0FE;\n",
              "      border: none;\n",
              "      border-radius: 50%;\n",
              "      cursor: pointer;\n",
              "      display: none;\n",
              "      fill: #1967D2;\n",
              "      height: 32px;\n",
              "      padding: 0 0 0 0;\n",
              "      width: 32px;\n",
              "    }\n",
              "\n",
              "    .colab-df-convert:hover {\n",
              "      background-color: #E2EBFA;\n",
              "      box-shadow: 0px 1px 2px rgba(60, 64, 67, 0.3), 0px 1px 3px 1px rgba(60, 64, 67, 0.15);\n",
              "      fill: #174EA6;\n",
              "    }\n",
              "\n",
              "    .colab-df-buttons div {\n",
              "      margin-bottom: 4px;\n",
              "    }\n",
              "\n",
              "    [theme=dark] .colab-df-convert {\n",
              "      background-color: #3B4455;\n",
              "      fill: #D2E3FC;\n",
              "    }\n",
              "\n",
              "    [theme=dark] .colab-df-convert:hover {\n",
              "      background-color: #434B5C;\n",
              "      box-shadow: 0px 1px 3px 1px rgba(0, 0, 0, 0.15);\n",
              "      filter: drop-shadow(0px 1px 2px rgba(0, 0, 0, 0.3));\n",
              "      fill: #FFFFFF;\n",
              "    }\n",
              "  </style>\n",
              "\n",
              "    <script>\n",
              "      const buttonEl =\n",
              "        document.querySelector('#df-f4ba32b4-0ad2-4900-b52c-f08d3e294b09 button.colab-df-convert');\n",
              "      buttonEl.style.display =\n",
              "        google.colab.kernel.accessAllowed ? 'block' : 'none';\n",
              "\n",
              "      async function convertToInteractive(key) {\n",
              "        const element = document.querySelector('#df-f4ba32b4-0ad2-4900-b52c-f08d3e294b09');\n",
              "        const dataTable =\n",
              "          await google.colab.kernel.invokeFunction('convertToInteractive',\n",
              "                                                    [key], {});\n",
              "        if (!dataTable) return;\n",
              "\n",
              "        const docLinkHtml = 'Like what you see? Visit the ' +\n",
              "          '<a target=\"_blank\" href=https://colab.research.google.com/notebooks/data_table.ipynb>data table notebook</a>'\n",
              "          + ' to learn more about interactive tables.';\n",
              "        element.innerHTML = '';\n",
              "        dataTable['output_type'] = 'display_data';\n",
              "        await google.colab.output.renderOutput(dataTable, element);\n",
              "        const docLink = document.createElement('div');\n",
              "        docLink.innerHTML = docLinkHtml;\n",
              "        element.appendChild(docLink);\n",
              "      }\n",
              "    </script>\n",
              "  </div>\n",
              "\n",
              "\n",
              "<div id=\"df-5671c1ce-d977-4b7d-8dd9-0075860ea111\">\n",
              "  <button class=\"colab-df-quickchart\" onclick=\"quickchart('df-5671c1ce-d977-4b7d-8dd9-0075860ea111')\"\n",
              "            title=\"Suggest charts\"\n",
              "            style=\"display:none;\">\n",
              "\n",
              "<svg xmlns=\"http://www.w3.org/2000/svg\" height=\"24px\"viewBox=\"0 0 24 24\"\n",
              "     width=\"24px\">\n",
              "    <g>\n",
              "        <path d=\"M19 3H5c-1.1 0-2 .9-2 2v14c0 1.1.9 2 2 2h14c1.1 0 2-.9 2-2V5c0-1.1-.9-2-2-2zM9 17H7v-7h2v7zm4 0h-2V7h2v10zm4 0h-2v-4h2v4z\"/>\n",
              "    </g>\n",
              "</svg>\n",
              "  </button>\n",
              "\n",
              "<style>\n",
              "  .colab-df-quickchart {\n",
              "      --bg-color: #E8F0FE;\n",
              "      --fill-color: #1967D2;\n",
              "      --hover-bg-color: #E2EBFA;\n",
              "      --hover-fill-color: #174EA6;\n",
              "      --disabled-fill-color: #AAA;\n",
              "      --disabled-bg-color: #DDD;\n",
              "  }\n",
              "\n",
              "  [theme=dark] .colab-df-quickchart {\n",
              "      --bg-color: #3B4455;\n",
              "      --fill-color: #D2E3FC;\n",
              "      --hover-bg-color: #434B5C;\n",
              "      --hover-fill-color: #FFFFFF;\n",
              "      --disabled-bg-color: #3B4455;\n",
              "      --disabled-fill-color: #666;\n",
              "  }\n",
              "\n",
              "  .colab-df-quickchart {\n",
              "    background-color: var(--bg-color);\n",
              "    border: none;\n",
              "    border-radius: 50%;\n",
              "    cursor: pointer;\n",
              "    display: none;\n",
              "    fill: var(--fill-color);\n",
              "    height: 32px;\n",
              "    padding: 0;\n",
              "    width: 32px;\n",
              "  }\n",
              "\n",
              "  .colab-df-quickchart:hover {\n",
              "    background-color: var(--hover-bg-color);\n",
              "    box-shadow: 0 1px 2px rgba(60, 64, 67, 0.3), 0 1px 3px 1px rgba(60, 64, 67, 0.15);\n",
              "    fill: var(--button-hover-fill-color);\n",
              "  }\n",
              "\n",
              "  .colab-df-quickchart-complete:disabled,\n",
              "  .colab-df-quickchart-complete:disabled:hover {\n",
              "    background-color: var(--disabled-bg-color);\n",
              "    fill: var(--disabled-fill-color);\n",
              "    box-shadow: none;\n",
              "  }\n",
              "\n",
              "  .colab-df-spinner {\n",
              "    border: 2px solid var(--fill-color);\n",
              "    border-color: transparent;\n",
              "    border-bottom-color: var(--fill-color);\n",
              "    animation:\n",
              "      spin 1s steps(1) infinite;\n",
              "  }\n",
              "\n",
              "  @keyframes spin {\n",
              "    0% {\n",
              "      border-color: transparent;\n",
              "      border-bottom-color: var(--fill-color);\n",
              "      border-left-color: var(--fill-color);\n",
              "    }\n",
              "    20% {\n",
              "      border-color: transparent;\n",
              "      border-left-color: var(--fill-color);\n",
              "      border-top-color: var(--fill-color);\n",
              "    }\n",
              "    30% {\n",
              "      border-color: transparent;\n",
              "      border-left-color: var(--fill-color);\n",
              "      border-top-color: var(--fill-color);\n",
              "      border-right-color: var(--fill-color);\n",
              "    }\n",
              "    40% {\n",
              "      border-color: transparent;\n",
              "      border-right-color: var(--fill-color);\n",
              "      border-top-color: var(--fill-color);\n",
              "    }\n",
              "    60% {\n",
              "      border-color: transparent;\n",
              "      border-right-color: var(--fill-color);\n",
              "    }\n",
              "    80% {\n",
              "      border-color: transparent;\n",
              "      border-right-color: var(--fill-color);\n",
              "      border-bottom-color: var(--fill-color);\n",
              "    }\n",
              "    90% {\n",
              "      border-color: transparent;\n",
              "      border-bottom-color: var(--fill-color);\n",
              "    }\n",
              "  }\n",
              "</style>\n",
              "\n",
              "  <script>\n",
              "    async function quickchart(key) {\n",
              "      const quickchartButtonEl =\n",
              "        document.querySelector('#' + key + ' button');\n",
              "      quickchartButtonEl.disabled = true;  // To prevent multiple clicks.\n",
              "      quickchartButtonEl.classList.add('colab-df-spinner');\n",
              "      try {\n",
              "        const charts = await google.colab.kernel.invokeFunction(\n",
              "            'suggestCharts', [key], {});\n",
              "      } catch (error) {\n",
              "        console.error('Error during call to suggestCharts:', error);\n",
              "      }\n",
              "      quickchartButtonEl.classList.remove('colab-df-spinner');\n",
              "      quickchartButtonEl.classList.add('colab-df-quickchart-complete');\n",
              "    }\n",
              "    (() => {\n",
              "      let quickchartButtonEl =\n",
              "        document.querySelector('#df-5671c1ce-d977-4b7d-8dd9-0075860ea111 button');\n",
              "      quickchartButtonEl.style.display =\n",
              "        google.colab.kernel.accessAllowed ? 'block' : 'none';\n",
              "    })();\n",
              "  </script>\n",
              "</div>\n",
              "\n",
              "    </div>\n",
              "  </div>\n"
            ],
            "text/plain": [
              "                                                Division  \\\n",
              "766                                       Premier League   \n",
              "23869                                  Ligue 1 Uber Eats   \n",
              "26494  French Regional 1 - Auvergne Rhône Alpes - Gro...   \n",
              "26881                        French National 3 - Group C   \n",
              "28968                                   DPR Korea League   \n",
              "\n",
              "                                Based  Nat EU National  Caps AT Apps   Age  \\\n",
              "766          England (Premier League)  USA          No  36.0     185  24.0   \n",
              "23869                France (Ligue 1)  FRA         Yes   0.0     NaN  17.0   \n",
              "26494   France (R1 - Auvergne RA - C)  FRA         Yes   0.0       1  19.0   \n",
              "26881   France (National 3 - Group C)  FRA         Yes   0.0      46  26.0   \n",
              "28968  North Korea (DPR Korea League)  PRK          No   1.0      11  27.0   \n",
              "\n",
              "          CR     Begins     Expires  Last Club Last Trans. Fee          Salary  \n",
              "766    7,122  20/8/2023   30/6/2028  Leeds Utd            €27M  €3,032,000 p/a  \n",
              "23869  3,609   4/7/2022   30/6/2024        NaN             NaN     €33,500 p/a  \n",
              "26494  3,000   1/7/2023   30/6/2024        NaN             NaN     €25,000 p/a  \n",
              "26881  4,300   1/7/2023   30/6/2024        NaN             NaN     €24,500 p/a  \n",
              "28968  4,550   6/7/2020  31/12/2024        NaN             NaN     €19,500 p/a  "
            ]
          },
          "execution_count": 67,
          "metadata": {},
          "output_type": "execute_result"
        }
      ],
      "source": [
        "df = df.drop(['Name', 'Club', 'Position'], axis=1)\n",
        "df.sample(5)"
      ]
    },
    {
      "cell_type": "code",
      "execution_count": 68,
      "metadata": {
        "id": "v3TCstOYgX0f"
      },
      "outputs": [],
      "source": [
        "top_5_leagues = ['Premier League', 'LALIGA EA SPORTS', 'Ligue 1 Uber Eats', 'Serie A TIM', 'Bundesliga']\n",
        "df['Is_top_5_League'] = df['Division'].apply(lambda x: 1 if x in top_5_leagues else 0)\n",
        "\n",
        "df.drop('Division', axis=1, inplace=True)"
      ]
    },
    {
      "cell_type": "code",
      "execution_count": 69,
      "metadata": {
        "id": "uTgJIkRwgbaE"
      },
      "outputs": [],
      "source": [
        "# Converting leagues' nations to rich nations with monetary power to pull players\n",
        "rich_nat = [\n",
        "    \"England\",\n",
        "    \"China\",\n",
        "    \"Germany\",\n",
        "    \"Spain\",\n",
        "    \"France\",\n",
        "    \"Italy\",\n",
        "    \"United States\",\n",
        "    \"Qatar\",\n",
        "    \"U.A.E.\",\n",
        "    \"Saudi Arabia\"]\n",
        "\n",
        "df['Based_rich_nation'] = df['Based'].apply(lambda x: 1 if x.split(' (')[0] in rich_nat else 0)\n",
        "df.drop('Based', axis=1, inplace=True)"
      ]
    },
    {
      "cell_type": "code",
      "execution_count": 70,
      "metadata": {
        "id": "fxwCPTtGge1l"
      },
      "outputs": [],
      "source": [
        "#Converting all nations into tiers of nations\n",
        "\n",
        "tier1 = [\n",
        "    \"ARG\",  # Argentina\n",
        "    \"FRA\",  # France\n",
        "    \"ENG\",  # England\n",
        "    \"BEL\",  # Belgium\n",
        "    \"BRA\",  # Brazil\n",
        "    \"NED\",  # Netherlands\n",
        "    \"POR\",  # Portugal\n",
        "    \"ESP\",  # Spain\n",
        "    \"ITA\",  # Italy\n",
        "    \"CRO\",  # Croatia\n",
        "]\n",
        "\n",
        "tier2 = [\n",
        "    \"URU\",  # Uruguay\n",
        "    \"MAR\",  # Morocco\n",
        "    \"USA\",  # USA\n",
        "    \"COL\",  # Colombia\n",
        "    \"MEX\",  # Mexico\n",
        "    \"GER\",  # Germany\n",
        "    \"SEN\",  # Senegal\n",
        "    \"JPN\",  # Japan\n",
        "    \"SUI\",  # Switzerland\n",
        "    \"IRN\",  # Iran\n",
        "    \"DEN\",  # Denmark\n",
        "    \"KOR\",  # Korea Republic\n",
        "    \"AUS\",  # Australia\n",
        "    \"UKR\",  # Ukraine\n",
        "    \"AUT\",  # Austria\n",
        "    \"SWE\",  # Sweden\n",
        "    \"HUN\",  # Hungary\n",
        "    \"NGA\",  # Nigeria\n",
        "    \"WAL\",  # Wales\n",
        "    \"POL\"]\n",
        "\n",
        "df['Is_top_ranked_nation'] = df['Nat'].apply(lambda x: 2 if x in tier1 else (1 if x in tier2 else 0))\n",
        "df.drop('Nat', axis=1, inplace=True)"
      ]
    },
    {
      "cell_type": "code",
      "execution_count": 71,
      "metadata": {
        "id": "q8vGOIPsgjNr"
      },
      "outputs": [],
      "source": [
        "#Mapping EU National from YES/NO to 1/0\n",
        "df['EU_National'] = df['EU National'].map({'Yes': 1, 'No': 0})"
      ]
    },
    {
      "cell_type": "code",
      "execution_count": 72,
      "metadata": {
        "id": "jXMLFtYUgmH3"
      },
      "outputs": [],
      "source": [
        "#Adding numerical df to our new df\n",
        "\n",
        "df['AT Apps'] = df['AT Apps'].fillna(0).astype(int)\n",
        "df['CR'] = df['CR'].str.replace(',', '').astype(float)\n",
        "df['Last Trans. Fee'] = df['Last Trans. Fee'].fillna('€0')"
      ]
    },
    {
      "cell_type": "code",
      "execution_count": 73,
      "metadata": {
        "id": "f3YOOHojgpCa"
      },
      "outputs": [],
      "source": [
        "#Checking to see if player's prev club was a top club which might indicate a higher wage\n",
        "\n",
        "top_clubs = ['Real Madrid', 'Bayern München', 'Barcelona', 'Man City', 'Juventus', 'Chelsea', 'Atlético de Madrid', 'Liverpool', 'Paris Saint-Germain', 'Sevilla', 'Man Utd', 'Dortmund', 'Porto', 'Arsenal', 'Benfica', 'Ajax', 'Roma', 'Napoli', 'Tottenham', 'Shakhtar']\n",
        "\n",
        "df['Is_top_prev_club'] = df['Last Club'].apply(lambda x: 1 if x in top_clubs else 0)\n",
        "df.drop('Last Club', axis=1, inplace=True)"
      ]
    },
    {
      "cell_type": "code",
      "execution_count": 74,
      "metadata": {
        "id": "ymBEags8gr0N"
      },
      "outputs": [],
      "source": [
        "#Converting last transfer fee into numerical df\n",
        "def last_trans_fee_conversion(amt):\n",
        "    if amt =='€0':\n",
        "        return 0\n",
        "    elif amt[-1] == 'M':\n",
        "        return float(amt[1:-1])*1e+6\n",
        "    elif amt[-1] == 'K':\n",
        "        return float(amt[1:-1])*1e+3\n",
        "    else:\n",
        "        return float(amt[1:])\n",
        "\n",
        "df['Last_Transfer_Fee'] = df['Last Trans. Fee'].apply(lambda x: last_trans_fee_conversion(x))\n",
        "df.drop('Last Trans. Fee', axis=1, inplace=True)"
      ]
    },
    {
      "cell_type": "code",
      "execution_count": 75,
      "metadata": {
        "colab": {
          "base_uri": "https://localhost:8080/",
          "height": 35
        },
        "id": "ogE248eytB6Z",
        "outputId": "925cbdb4-2d2c-437e-fcd6-2020812216ac"
      },
      "outputs": [
        {
          "data": {
            "application/vnd.google.colaboratory.intrinsic+json": {
              "type": "string"
            },
            "text/plain": [
              "'€203,478,000 p/a'"
            ]
          },
          "execution_count": 75,
          "metadata": {},
          "output_type": "execute_result"
        }
      ],
      "source": [
        "df['Salary'][0]"
      ]
    },
    {
      "cell_type": "code",
      "execution_count": 76,
      "metadata": {
        "id": "XGt3qLZaguri"
      },
      "outputs": [],
      "source": [
        "#Converting Salary into numerical\n",
        "df['Salary'] = df['Salary'].apply(lambda x: float(x[1:].split()[0].replace(',', '')))"
      ]
    },
    {
      "cell_type": "code",
      "execution_count": 77,
      "metadata": {
        "id": "EZDjjZAYtB6Z"
      },
      "outputs": [],
      "source": [
        "df['Expires'] = df['Expires'].fillna(datetime.now().strftime(\"%d/%m/%y\"))"
      ]
    },
    {
      "cell_type": "code",
      "execution_count": 78,
      "metadata": {
        "id": "Vd7fNSs0tB6a"
      },
      "outputs": [],
      "source": [
        "df['Expires'] = pd.to_datetime(df['Expires'], dayfirst=True, format=\"mixed\")\n",
        "df['Begins'] = pd.to_datetime(df['Begins'], dayfirst=True, format=\"mixed\")"
      ]
    },
    {
      "cell_type": "code",
      "execution_count": 79,
      "metadata": {
        "id": "zSjBpydVtB6a"
      },
      "outputs": [],
      "source": [
        "df['Duration'] = df.apply(lambda x: (x['Expires'] - x['Begins']).days, axis=1)\n",
        "df.drop(['Begins','Expires'], axis=1, inplace=True)"
      ]
    },
    {
      "cell_type": "code",
      "execution_count": 80,
      "metadata": {
        "id": "Q0z7TzLWmPqJ"
      },
      "outputs": [],
      "source": [
        "df[['Age', 'Caps', 'EU National']] = df[['Age', 'Caps', 'EU National']].apply(pd.to_numeric, errors='coerce').fillna(0)"
      ]
    },
    {
      "cell_type": "code",
      "execution_count": 81,
      "metadata": {
        "colab": {
          "base_uri": "https://localhost:8080/"
        },
        "id": "DdvQeMUEnnMW",
        "outputId": "43770440-791a-402a-aaf1-772ae77b9ed0"
      },
      "outputs": [
        {
          "name": "stdout",
          "output_type": "stream",
          "text": [
            "<class 'pandas.core.frame.DataFrame'>\n",
            "RangeIndex: 40791 entries, 0 to 40790\n",
            "Data columns (total 13 columns):\n",
            " #   Column                Non-Null Count  Dtype  \n",
            "---  ------                --------------  -----  \n",
            " 0   EU National           40791 non-null  float64\n",
            " 1   Caps                  40791 non-null  float64\n",
            " 2   AT Apps               40791 non-null  int64  \n",
            " 3   Age                   40791 non-null  float64\n",
            " 4   CR                    40791 non-null  float64\n",
            " 5   Salary                40791 non-null  float64\n",
            " 6   Is_top_5_League       40791 non-null  int64  \n",
            " 7   Based_rich_nation     40791 non-null  int64  \n",
            " 8   Is_top_ranked_nation  40791 non-null  int64  \n",
            " 9   EU_National           40791 non-null  int64  \n",
            " 10  Is_top_prev_club      40791 non-null  int64  \n",
            " 11  Last_Transfer_Fee     40791 non-null  float64\n",
            " 12  Duration              40791 non-null  int64  \n",
            "dtypes: float64(6), int64(7)\n",
            "memory usage: 4.0 MB\n"
          ]
        }
      ],
      "source": [
        "df.info()"
      ]
    },
    {
      "cell_type": "code",
      "execution_count": 82,
      "metadata": {
        "colab": {
          "base_uri": "https://localhost:8080/"
        },
        "execution": {
          "iopub.execute_input": "2024-04-29T14:04:33.704778Z",
          "iopub.status.busy": "2024-04-29T14:04:33.704340Z",
          "iopub.status.idle": "2024-04-29T14:04:33.715204Z",
          "shell.execute_reply": "2024-04-29T14:04:33.713961Z",
          "shell.execute_reply.started": "2024-04-29T14:04:33.704739Z"
        },
        "id": "BdbSlXPBeJvQ",
        "outputId": "1b774a07-aa1e-4fcd-d305-c3061e3ead48"
      },
      "outputs": [
        {
          "data": {
            "text/plain": [
              "EU National             0\n",
              "Caps                    0\n",
              "AT Apps                 0\n",
              "Age                     0\n",
              "CR                      0\n",
              "Salary                  0\n",
              "Is_top_5_League         0\n",
              "Based_rich_nation       0\n",
              "Is_top_ranked_nation    0\n",
              "EU_National             0\n",
              "Is_top_prev_club        0\n",
              "Last_Transfer_Fee       0\n",
              "Duration                0\n",
              "dtype: int64"
            ]
          },
          "execution_count": 82,
          "metadata": {},
          "output_type": "execute_result"
        }
      ],
      "source": [
        "df.isnull().sum()"
      ]
    },
    {
      "cell_type": "markdown",
      "metadata": {
        "id": "NSDbQk1-g_Rw"
      },
      "source": [
        "# **EDA**"
      ]
    },
    {
      "cell_type": "code",
      "execution_count": 83,
      "metadata": {
        "colab": {
          "base_uri": "https://localhost:8080/",
          "height": 456
        },
        "id": "h12KNyfJtB6b",
        "outputId": "34c37664-cc46-47e9-fc0a-b9742cc2cf15"
      },
      "outputs": [
        {
          "data": {
            "application/vnd.google.colaboratory.intrinsic+json": {
              "summary": "{\n  \"name\": \"df\",\n  \"rows\": 40791,\n  \"fields\": [\n    {\n      \"column\": \"EU National\",\n      \"properties\": {\n        \"dtype\": \"number\",\n        \"std\": 0.0,\n        \"min\": 0.0,\n        \"max\": 0.0,\n        \"num_unique_values\": 1,\n        \"samples\": [\n          0.0\n        ],\n        \"semantic_type\": \"\",\n        \"description\": \"\"\n      }\n    },\n    {\n      \"column\": \"Caps\",\n      \"properties\": {\n        \"dtype\": \"number\",\n        \"std\": 13.665878474641817,\n        \"min\": 0.0,\n        \"max\": 200.0,\n        \"num_unique_values\": 153,\n        \"samples\": [\n          59.0\n        ],\n        \"semantic_type\": \"\",\n        \"description\": \"\"\n      }\n    },\n    {\n      \"column\": \"AT Apps\",\n      \"properties\": {\n        \"dtype\": \"number\",\n        \"std\": 125,\n        \"min\": 0,\n        \"max\": 799,\n        \"num_unique_values\": 630,\n        \"samples\": [\n          468\n        ],\n        \"semantic_type\": \"\",\n        \"description\": \"\"\n      }\n    },\n    {\n      \"column\": \"Age\",\n      \"properties\": {\n        \"dtype\": \"number\",\n        \"std\": 5.328113547582666,\n        \"min\": 17.0,\n        \"max\": 45.0,\n        \"num_unique_values\": 29,\n        \"samples\": [\n          45.0\n        ],\n        \"semantic_type\": \"\",\n        \"description\": \"\"\n      }\n    },\n    {\n      \"column\": \"CR\",\n      \"properties\": {\n        \"dtype\": \"number\",\n        \"std\": 1164.9123359347464,\n        \"min\": 50.0,\n        \"max\": 10000.0,\n        \"num_unique_values\": 5051,\n        \"samples\": [\n          1008.0\n        ],\n        \"semantic_type\": \"\",\n        \"description\": \"\"\n      }\n    },\n    {\n      \"column\": \"Salary\",\n      \"properties\": {\n        \"dtype\": \"number\",\n        \"std\": 2006070.639113666,\n        \"min\": 180.0,\n        \"max\": 203478000.0,\n        \"num_unique_values\": 1965,\n        \"samples\": [\n          3400.0\n        ],\n        \"semantic_type\": \"\",\n        \"description\": \"\"\n      }\n    },\n    {\n      \"column\": \"Is_top_5_League\",\n      \"properties\": {\n        \"dtype\": \"number\",\n        \"std\": 0,\n        \"min\": 0,\n        \"max\": 1,\n        \"num_unique_values\": 2,\n        \"samples\": [\n          1\n        ],\n        \"semantic_type\": \"\",\n        \"description\": \"\"\n      }\n    },\n    {\n      \"column\": \"Based_rich_nation\",\n      \"properties\": {\n        \"dtype\": \"number\",\n        \"std\": 0,\n        \"min\": 0,\n        \"max\": 1,\n        \"num_unique_values\": 2,\n        \"samples\": [\n          0\n        ],\n        \"semantic_type\": \"\",\n        \"description\": \"\"\n      }\n    },\n    {\n      \"column\": \"Is_top_ranked_nation\",\n      \"properties\": {\n        \"dtype\": \"number\",\n        \"std\": 0,\n        \"min\": 0,\n        \"max\": 2,\n        \"num_unique_values\": 3,\n        \"samples\": [\n          2\n        ],\n        \"semantic_type\": \"\",\n        \"description\": \"\"\n      }\n    },\n    {\n      \"column\": \"EU_National\",\n      \"properties\": {\n        \"dtype\": \"number\",\n        \"std\": 0,\n        \"min\": 0,\n        \"max\": 1,\n        \"num_unique_values\": 2,\n        \"samples\": [\n          0\n        ],\n        \"semantic_type\": \"\",\n        \"description\": \"\"\n      }\n    },\n    {\n      \"column\": \"Is_top_prev_club\",\n      \"properties\": {\n        \"dtype\": \"number\",\n        \"std\": 0,\n        \"min\": 0,\n        \"max\": 1,\n        \"num_unique_values\": 2,\n        \"samples\": [\n          1\n        ],\n        \"semantic_type\": \"\",\n        \"description\": \"\"\n      }\n    },\n    {\n      \"column\": \"Last_Transfer_Fee\",\n      \"properties\": {\n        \"dtype\": \"number\",\n        \"std\": 4421775.000881199,\n        \"min\": 0.0,\n        \"max\": 186000000.0,\n        \"num_unique_values\": 354,\n        \"samples\": [\n          725000.0\n        ],\n        \"semantic_type\": \"\",\n        \"description\": \"\"\n      }\n    },\n    {\n      \"column\": \"Duration\",\n      \"properties\": {\n        \"dtype\": \"number\",\n        \"std\": 459,\n        \"min\": 90,\n        \"max\": 3652,\n        \"num_unique_values\": 1931,\n        \"samples\": [\n          766\n        ],\n        \"semantic_type\": \"\",\n        \"description\": \"\"\n      }\n    }\n  ]\n}",
              "type": "dataframe",
              "variable_name": "df"
            },
            "text/html": [
              "\n",
              "  <div id=\"df-cac00f33-b251-4d18-bef4-bd91f3cbd036\" class=\"colab-df-container\">\n",
              "    <div>\n",
              "<style scoped>\n",
              "    .dataframe tbody tr th:only-of-type {\n",
              "        vertical-align: middle;\n",
              "    }\n",
              "\n",
              "    .dataframe tbody tr th {\n",
              "        vertical-align: top;\n",
              "    }\n",
              "\n",
              "    .dataframe thead th {\n",
              "        text-align: right;\n",
              "    }\n",
              "</style>\n",
              "<table border=\"1\" class=\"dataframe\">\n",
              "  <thead>\n",
              "    <tr style=\"text-align: right;\">\n",
              "      <th></th>\n",
              "      <th>EU National</th>\n",
              "      <th>Caps</th>\n",
              "      <th>AT Apps</th>\n",
              "      <th>Age</th>\n",
              "      <th>CR</th>\n",
              "      <th>Salary</th>\n",
              "      <th>Is_top_5_League</th>\n",
              "      <th>Based_rich_nation</th>\n",
              "      <th>Is_top_ranked_nation</th>\n",
              "      <th>EU_National</th>\n",
              "      <th>Is_top_prev_club</th>\n",
              "      <th>Last_Transfer_Fee</th>\n",
              "      <th>Duration</th>\n",
              "    </tr>\n",
              "  </thead>\n",
              "  <tbody>\n",
              "    <tr>\n",
              "      <th>0</th>\n",
              "      <td>0.0</td>\n",
              "      <td>200.0</td>\n",
              "      <td>673</td>\n",
              "      <td>38.0</td>\n",
              "      <td>7629.0</td>\n",
              "      <td>203478000.0</td>\n",
              "      <td>0</td>\n",
              "      <td>1</td>\n",
              "      <td>2</td>\n",
              "      <td>1</td>\n",
              "      <td>0</td>\n",
              "      <td>0.0</td>\n",
              "      <td>912</td>\n",
              "    </tr>\n",
              "    <tr>\n",
              "      <th>1</th>\n",
              "      <td>0.0</td>\n",
              "      <td>97.0</td>\n",
              "      <td>555</td>\n",
              "      <td>35.0</td>\n",
              "      <td>8250.0</td>\n",
              "      <td>199452000.0</td>\n",
              "      <td>0</td>\n",
              "      <td>1</td>\n",
              "      <td>2</td>\n",
              "      <td>1</td>\n",
              "      <td>0</td>\n",
              "      <td>0.0</td>\n",
              "      <td>730</td>\n",
              "    </tr>\n",
              "    <tr>\n",
              "      <th>2</th>\n",
              "      <td>0.0</td>\n",
              "      <td>124.0</td>\n",
              "      <td>340</td>\n",
              "      <td>31.0</td>\n",
              "      <td>9000.0</td>\n",
              "      <td>149589000.0</td>\n",
              "      <td>0</td>\n",
              "      <td>1</td>\n",
              "      <td>2</td>\n",
              "      <td>1</td>\n",
              "      <td>1</td>\n",
              "      <td>90000000.0</td>\n",
              "      <td>685</td>\n",
              "    </tr>\n",
              "    <tr>\n",
              "      <th>3</th>\n",
              "      <td>0.0</td>\n",
              "      <td>0.0</td>\n",
              "      <td>245</td>\n",
              "      <td>25.0</td>\n",
              "      <td>7414.0</td>\n",
              "      <td>74157000.0</td>\n",
              "      <td>0</td>\n",
              "      <td>1</td>\n",
              "      <td>2</td>\n",
              "      <td>0</td>\n",
              "      <td>0</td>\n",
              "      <td>55000000.0</td>\n",
              "      <td>1403</td>\n",
              "    </tr>\n",
              "    <tr>\n",
              "      <th>4</th>\n",
              "      <td>0.0</td>\n",
              "      <td>70.0</td>\n",
              "      <td>221</td>\n",
              "      <td>24.0</td>\n",
              "      <td>9415.0</td>\n",
              "      <td>48467000.0</td>\n",
              "      <td>1</td>\n",
              "      <td>1</td>\n",
              "      <td>2</td>\n",
              "      <td>1</td>\n",
              "      <td>0</td>\n",
              "      <td>186000000.0</td>\n",
              "      <td>1805</td>\n",
              "    </tr>\n",
              "    <tr>\n",
              "      <th>...</th>\n",
              "      <td>...</td>\n",
              "      <td>...</td>\n",
              "      <td>...</td>\n",
              "      <td>...</td>\n",
              "      <td>...</td>\n",
              "      <td>...</td>\n",
              "      <td>...</td>\n",
              "      <td>...</td>\n",
              "      <td>...</td>\n",
              "      <td>...</td>\n",
              "      <td>...</td>\n",
              "      <td>...</td>\n",
              "      <td>...</td>\n",
              "    </tr>\n",
              "    <tr>\n",
              "      <th>40786</th>\n",
              "      <td>0.0</td>\n",
              "      <td>5.0</td>\n",
              "      <td>59</td>\n",
              "      <td>31.0</td>\n",
              "      <td>1508.0</td>\n",
              "      <td>300.0</td>\n",
              "      <td>0</td>\n",
              "      <td>0</td>\n",
              "      <td>0</td>\n",
              "      <td>0</td>\n",
              "      <td>0</td>\n",
              "      <td>0.0</td>\n",
              "      <td>1825</td>\n",
              "    </tr>\n",
              "    <tr>\n",
              "      <th>40787</th>\n",
              "      <td>0.0</td>\n",
              "      <td>6.0</td>\n",
              "      <td>1</td>\n",
              "      <td>21.0</td>\n",
              "      <td>2750.0</td>\n",
              "      <td>300.0</td>\n",
              "      <td>0</td>\n",
              "      <td>0</td>\n",
              "      <td>0</td>\n",
              "      <td>0</td>\n",
              "      <td>0</td>\n",
              "      <td>0.0</td>\n",
              "      <td>1000</td>\n",
              "    </tr>\n",
              "    <tr>\n",
              "      <th>40788</th>\n",
              "      <td>0.0</td>\n",
              "      <td>2.0</td>\n",
              "      <td>3</td>\n",
              "      <td>24.0</td>\n",
              "      <td>3550.0</td>\n",
              "      <td>300.0</td>\n",
              "      <td>0</td>\n",
              "      <td>0</td>\n",
              "      <td>0</td>\n",
              "      <td>0</td>\n",
              "      <td>0</td>\n",
              "      <td>0.0</td>\n",
              "      <td>730</td>\n",
              "    </tr>\n",
              "    <tr>\n",
              "      <th>40789</th>\n",
              "      <td>0.0</td>\n",
              "      <td>3.0</td>\n",
              "      <td>14</td>\n",
              "      <td>20.0</td>\n",
              "      <td>1403.0</td>\n",
              "      <td>300.0</td>\n",
              "      <td>0</td>\n",
              "      <td>0</td>\n",
              "      <td>0</td>\n",
              "      <td>0</td>\n",
              "      <td>0</td>\n",
              "      <td>0.0</td>\n",
              "      <td>1460</td>\n",
              "    </tr>\n",
              "    <tr>\n",
              "      <th>40790</th>\n",
              "      <td>0.0</td>\n",
              "      <td>0.0</td>\n",
              "      <td>0</td>\n",
              "      <td>17.0</td>\n",
              "      <td>3407.0</td>\n",
              "      <td>180.0</td>\n",
              "      <td>0</td>\n",
              "      <td>0</td>\n",
              "      <td>1</td>\n",
              "      <td>1</td>\n",
              "      <td>0</td>\n",
              "      <td>0.0</td>\n",
              "      <td>1246</td>\n",
              "    </tr>\n",
              "  </tbody>\n",
              "</table>\n",
              "<p>40791 rows × 13 columns</p>\n",
              "</div>\n",
              "    <div class=\"colab-df-buttons\">\n",
              "\n",
              "  <div class=\"colab-df-container\">\n",
              "    <button class=\"colab-df-convert\" onclick=\"convertToInteractive('df-cac00f33-b251-4d18-bef4-bd91f3cbd036')\"\n",
              "            title=\"Convert this dataframe to an interactive table.\"\n",
              "            style=\"display:none;\">\n",
              "\n",
              "  <svg xmlns=\"http://www.w3.org/2000/svg\" height=\"24px\" viewBox=\"0 -960 960 960\">\n",
              "    <path d=\"M120-120v-720h720v720H120Zm60-500h600v-160H180v160Zm220 220h160v-160H400v160Zm0 220h160v-160H400v160ZM180-400h160v-160H180v160Zm440 0h160v-160H620v160ZM180-180h160v-160H180v160Zm440 0h160v-160H620v160Z\"/>\n",
              "  </svg>\n",
              "    </button>\n",
              "\n",
              "  <style>\n",
              "    .colab-df-container {\n",
              "      display:flex;\n",
              "      gap: 12px;\n",
              "    }\n",
              "\n",
              "    .colab-df-convert {\n",
              "      background-color: #E8F0FE;\n",
              "      border: none;\n",
              "      border-radius: 50%;\n",
              "      cursor: pointer;\n",
              "      display: none;\n",
              "      fill: #1967D2;\n",
              "      height: 32px;\n",
              "      padding: 0 0 0 0;\n",
              "      width: 32px;\n",
              "    }\n",
              "\n",
              "    .colab-df-convert:hover {\n",
              "      background-color: #E2EBFA;\n",
              "      box-shadow: 0px 1px 2px rgba(60, 64, 67, 0.3), 0px 1px 3px 1px rgba(60, 64, 67, 0.15);\n",
              "      fill: #174EA6;\n",
              "    }\n",
              "\n",
              "    .colab-df-buttons div {\n",
              "      margin-bottom: 4px;\n",
              "    }\n",
              "\n",
              "    [theme=dark] .colab-df-convert {\n",
              "      background-color: #3B4455;\n",
              "      fill: #D2E3FC;\n",
              "    }\n",
              "\n",
              "    [theme=dark] .colab-df-convert:hover {\n",
              "      background-color: #434B5C;\n",
              "      box-shadow: 0px 1px 3px 1px rgba(0, 0, 0, 0.15);\n",
              "      filter: drop-shadow(0px 1px 2px rgba(0, 0, 0, 0.3));\n",
              "      fill: #FFFFFF;\n",
              "    }\n",
              "  </style>\n",
              "\n",
              "    <script>\n",
              "      const buttonEl =\n",
              "        document.querySelector('#df-cac00f33-b251-4d18-bef4-bd91f3cbd036 button.colab-df-convert');\n",
              "      buttonEl.style.display =\n",
              "        google.colab.kernel.accessAllowed ? 'block' : 'none';\n",
              "\n",
              "      async function convertToInteractive(key) {\n",
              "        const element = document.querySelector('#df-cac00f33-b251-4d18-bef4-bd91f3cbd036');\n",
              "        const dataTable =\n",
              "          await google.colab.kernel.invokeFunction('convertToInteractive',\n",
              "                                                    [key], {});\n",
              "        if (!dataTable) return;\n",
              "\n",
              "        const docLinkHtml = 'Like what you see? Visit the ' +\n",
              "          '<a target=\"_blank\" href=https://colab.research.google.com/notebooks/data_table.ipynb>data table notebook</a>'\n",
              "          + ' to learn more about interactive tables.';\n",
              "        element.innerHTML = '';\n",
              "        dataTable['output_type'] = 'display_data';\n",
              "        await google.colab.output.renderOutput(dataTable, element);\n",
              "        const docLink = document.createElement('div');\n",
              "        docLink.innerHTML = docLinkHtml;\n",
              "        element.appendChild(docLink);\n",
              "      }\n",
              "    </script>\n",
              "  </div>\n",
              "\n",
              "\n",
              "<div id=\"df-13df6e37-f9e9-4d80-9722-0d03eb102c34\">\n",
              "  <button class=\"colab-df-quickchart\" onclick=\"quickchart('df-13df6e37-f9e9-4d80-9722-0d03eb102c34')\"\n",
              "            title=\"Suggest charts\"\n",
              "            style=\"display:none;\">\n",
              "\n",
              "<svg xmlns=\"http://www.w3.org/2000/svg\" height=\"24px\"viewBox=\"0 0 24 24\"\n",
              "     width=\"24px\">\n",
              "    <g>\n",
              "        <path d=\"M19 3H5c-1.1 0-2 .9-2 2v14c0 1.1.9 2 2 2h14c1.1 0 2-.9 2-2V5c0-1.1-.9-2-2-2zM9 17H7v-7h2v7zm4 0h-2V7h2v10zm4 0h-2v-4h2v4z\"/>\n",
              "    </g>\n",
              "</svg>\n",
              "  </button>\n",
              "\n",
              "<style>\n",
              "  .colab-df-quickchart {\n",
              "      --bg-color: #E8F0FE;\n",
              "      --fill-color: #1967D2;\n",
              "      --hover-bg-color: #E2EBFA;\n",
              "      --hover-fill-color: #174EA6;\n",
              "      --disabled-fill-color: #AAA;\n",
              "      --disabled-bg-color: #DDD;\n",
              "  }\n",
              "\n",
              "  [theme=dark] .colab-df-quickchart {\n",
              "      --bg-color: #3B4455;\n",
              "      --fill-color: #D2E3FC;\n",
              "      --hover-bg-color: #434B5C;\n",
              "      --hover-fill-color: #FFFFFF;\n",
              "      --disabled-bg-color: #3B4455;\n",
              "      --disabled-fill-color: #666;\n",
              "  }\n",
              "\n",
              "  .colab-df-quickchart {\n",
              "    background-color: var(--bg-color);\n",
              "    border: none;\n",
              "    border-radius: 50%;\n",
              "    cursor: pointer;\n",
              "    display: none;\n",
              "    fill: var(--fill-color);\n",
              "    height: 32px;\n",
              "    padding: 0;\n",
              "    width: 32px;\n",
              "  }\n",
              "\n",
              "  .colab-df-quickchart:hover {\n",
              "    background-color: var(--hover-bg-color);\n",
              "    box-shadow: 0 1px 2px rgba(60, 64, 67, 0.3), 0 1px 3px 1px rgba(60, 64, 67, 0.15);\n",
              "    fill: var(--button-hover-fill-color);\n",
              "  }\n",
              "\n",
              "  .colab-df-quickchart-complete:disabled,\n",
              "  .colab-df-quickchart-complete:disabled:hover {\n",
              "    background-color: var(--disabled-bg-color);\n",
              "    fill: var(--disabled-fill-color);\n",
              "    box-shadow: none;\n",
              "  }\n",
              "\n",
              "  .colab-df-spinner {\n",
              "    border: 2px solid var(--fill-color);\n",
              "    border-color: transparent;\n",
              "    border-bottom-color: var(--fill-color);\n",
              "    animation:\n",
              "      spin 1s steps(1) infinite;\n",
              "  }\n",
              "\n",
              "  @keyframes spin {\n",
              "    0% {\n",
              "      border-color: transparent;\n",
              "      border-bottom-color: var(--fill-color);\n",
              "      border-left-color: var(--fill-color);\n",
              "    }\n",
              "    20% {\n",
              "      border-color: transparent;\n",
              "      border-left-color: var(--fill-color);\n",
              "      border-top-color: var(--fill-color);\n",
              "    }\n",
              "    30% {\n",
              "      border-color: transparent;\n",
              "      border-left-color: var(--fill-color);\n",
              "      border-top-color: var(--fill-color);\n",
              "      border-right-color: var(--fill-color);\n",
              "    }\n",
              "    40% {\n",
              "      border-color: transparent;\n",
              "      border-right-color: var(--fill-color);\n",
              "      border-top-color: var(--fill-color);\n",
              "    }\n",
              "    60% {\n",
              "      border-color: transparent;\n",
              "      border-right-color: var(--fill-color);\n",
              "    }\n",
              "    80% {\n",
              "      border-color: transparent;\n",
              "      border-right-color: var(--fill-color);\n",
              "      border-bottom-color: var(--fill-color);\n",
              "    }\n",
              "    90% {\n",
              "      border-color: transparent;\n",
              "      border-bottom-color: var(--fill-color);\n",
              "    }\n",
              "  }\n",
              "</style>\n",
              "\n",
              "  <script>\n",
              "    async function quickchart(key) {\n",
              "      const quickchartButtonEl =\n",
              "        document.querySelector('#' + key + ' button');\n",
              "      quickchartButtonEl.disabled = true;  // To prevent multiple clicks.\n",
              "      quickchartButtonEl.classList.add('colab-df-spinner');\n",
              "      try {\n",
              "        const charts = await google.colab.kernel.invokeFunction(\n",
              "            'suggestCharts', [key], {});\n",
              "      } catch (error) {\n",
              "        console.error('Error during call to suggestCharts:', error);\n",
              "      }\n",
              "      quickchartButtonEl.classList.remove('colab-df-spinner');\n",
              "      quickchartButtonEl.classList.add('colab-df-quickchart-complete');\n",
              "    }\n",
              "    (() => {\n",
              "      let quickchartButtonEl =\n",
              "        document.querySelector('#df-13df6e37-f9e9-4d80-9722-0d03eb102c34 button');\n",
              "      quickchartButtonEl.style.display =\n",
              "        google.colab.kernel.accessAllowed ? 'block' : 'none';\n",
              "    })();\n",
              "  </script>\n",
              "</div>\n",
              "\n",
              "  <div id=\"id_b3e87cc9-3745-4ffb-8b93-07a0dfca8eec\">\n",
              "    <style>\n",
              "      .colab-df-generate {\n",
              "        background-color: #E8F0FE;\n",
              "        border: none;\n",
              "        border-radius: 50%;\n",
              "        cursor: pointer;\n",
              "        display: none;\n",
              "        fill: #1967D2;\n",
              "        height: 32px;\n",
              "        padding: 0 0 0 0;\n",
              "        width: 32px;\n",
              "      }\n",
              "\n",
              "      .colab-df-generate:hover {\n",
              "        background-color: #E2EBFA;\n",
              "        box-shadow: 0px 1px 2px rgba(60, 64, 67, 0.3), 0px 1px 3px 1px rgba(60, 64, 67, 0.15);\n",
              "        fill: #174EA6;\n",
              "      }\n",
              "\n",
              "      [theme=dark] .colab-df-generate {\n",
              "        background-color: #3B4455;\n",
              "        fill: #D2E3FC;\n",
              "      }\n",
              "\n",
              "      [theme=dark] .colab-df-generate:hover {\n",
              "        background-color: #434B5C;\n",
              "        box-shadow: 0px 1px 3px 1px rgba(0, 0, 0, 0.15);\n",
              "        filter: drop-shadow(0px 1px 2px rgba(0, 0, 0, 0.3));\n",
              "        fill: #FFFFFF;\n",
              "      }\n",
              "    </style>\n",
              "    <button class=\"colab-df-generate\" onclick=\"generateWithVariable('df')\"\n",
              "            title=\"Generate code using this dataframe.\"\n",
              "            style=\"display:none;\">\n",
              "\n",
              "  <svg xmlns=\"http://www.w3.org/2000/svg\" height=\"24px\"viewBox=\"0 0 24 24\"\n",
              "       width=\"24px\">\n",
              "    <path d=\"M7,19H8.4L18.45,9,17,7.55,7,17.6ZM5,21V16.75L18.45,3.32a2,2,0,0,1,2.83,0l1.4,1.43a1.91,1.91,0,0,1,.58,1.4,1.91,1.91,0,0,1-.58,1.4L9.25,21ZM18.45,9,17,7.55Zm-12,3A5.31,5.31,0,0,0,4.9,8.1,5.31,5.31,0,0,0,1,6.5,5.31,5.31,0,0,0,4.9,4.9,5.31,5.31,0,0,0,6.5,1,5.31,5.31,0,0,0,8.1,4.9,5.31,5.31,0,0,0,12,6.5,5.46,5.46,0,0,0,6.5,12Z\"/>\n",
              "  </svg>\n",
              "    </button>\n",
              "    <script>\n",
              "      (() => {\n",
              "      const buttonEl =\n",
              "        document.querySelector('#id_b3e87cc9-3745-4ffb-8b93-07a0dfca8eec button.colab-df-generate');\n",
              "      buttonEl.style.display =\n",
              "        google.colab.kernel.accessAllowed ? 'block' : 'none';\n",
              "\n",
              "      buttonEl.onclick = () => {\n",
              "        google.colab.notebook.generateWithVariable('df');\n",
              "      }\n",
              "      })();\n",
              "    </script>\n",
              "  </div>\n",
              "\n",
              "    </div>\n",
              "  </div>\n"
            ],
            "text/plain": [
              "       EU National   Caps  AT Apps   Age      CR       Salary  \\\n",
              "0              0.0  200.0      673  38.0  7629.0  203478000.0   \n",
              "1              0.0   97.0      555  35.0  8250.0  199452000.0   \n",
              "2              0.0  124.0      340  31.0  9000.0  149589000.0   \n",
              "3              0.0    0.0      245  25.0  7414.0   74157000.0   \n",
              "4              0.0   70.0      221  24.0  9415.0   48467000.0   \n",
              "...            ...    ...      ...   ...     ...          ...   \n",
              "40786          0.0    5.0       59  31.0  1508.0        300.0   \n",
              "40787          0.0    6.0        1  21.0  2750.0        300.0   \n",
              "40788          0.0    2.0        3  24.0  3550.0        300.0   \n",
              "40789          0.0    3.0       14  20.0  1403.0        300.0   \n",
              "40790          0.0    0.0        0  17.0  3407.0        180.0   \n",
              "\n",
              "       Is_top_5_League  Based_rich_nation  Is_top_ranked_nation  EU_National  \\\n",
              "0                    0                  1                     2            1   \n",
              "1                    0                  1                     2            1   \n",
              "2                    0                  1                     2            1   \n",
              "3                    0                  1                     2            0   \n",
              "4                    1                  1                     2            1   \n",
              "...                ...                ...                   ...          ...   \n",
              "40786                0                  0                     0            0   \n",
              "40787                0                  0                     0            0   \n",
              "40788                0                  0                     0            0   \n",
              "40789                0                  0                     0            0   \n",
              "40790                0                  0                     1            1   \n",
              "\n",
              "       Is_top_prev_club  Last_Transfer_Fee  Duration  \n",
              "0                     0                0.0       912  \n",
              "1                     0                0.0       730  \n",
              "2                     1         90000000.0       685  \n",
              "3                     0         55000000.0      1403  \n",
              "4                     0        186000000.0      1805  \n",
              "...                 ...                ...       ...  \n",
              "40786                 0                0.0      1825  \n",
              "40787                 0                0.0      1000  \n",
              "40788                 0                0.0       730  \n",
              "40789                 0                0.0      1460  \n",
              "40790                 0                0.0      1246  \n",
              "\n",
              "[40791 rows x 13 columns]"
            ]
          },
          "execution_count": 83,
          "metadata": {},
          "output_type": "execute_result"
        }
      ],
      "source": [
        "df"
      ]
    },
    {
      "cell_type": "code",
      "execution_count": 84,
      "metadata": {
        "colab": {
          "base_uri": "https://localhost:8080/"
        },
        "id": "KAib9RgatB6b",
        "outputId": "9620db32-9650-420e-f8a7-65a4d5332d47"
      },
      "outputs": [
        {
          "name": "stdout",
          "output_type": "stream",
          "text": [
            "Average Salary by Top 5 League:\n",
            "Is_top_5_League\n",
            "0    1.907863e+05\n",
            "1    1.277738e+06\n",
            "Name: Salary, dtype: float64\n"
          ]
        }
      ],
      "source": [
        "average_salary = df.groupby('Is_top_5_League')['Salary'].mean()\n",
        "print('Average Salary by Top 5 League:')\n",
        "print(average_salary)"
      ]
    },
    {
      "cell_type": "code",
      "execution_count": 85,
      "metadata": {
        "colab": {
          "base_uri": "https://localhost:8080/",
          "height": 472
        },
        "id": "g2NjetQCrWbl",
        "outputId": "1f6360d6-4185-4178-de36-fb9e8f62a035"
      },
      "outputs": [
        {
          "data": {
            "image/png": "[encoded data removed]",
            "text/plain": [
              "<Figure size 640x480 with 1 Axes>"
            ]
          },
          "metadata": {},
          "output_type": "display_data"
        }
      ],
      "source": [
        "sns.barplot(x='Is_top_5_League', y='Salary', data=df)\n",
        "plt.title('Bar Graph between Is Top 5 and Salary')\n",
        "plt.show()"
      ]
    },
    {
      "cell_type": "code",
      "execution_count": 86,
      "metadata": {
        "colab": {
          "base_uri": "https://localhost:8080/"
        },
        "id": "-8fJfMWktB6c",
        "outputId": "b517e634-e662-45c8-9b89-c8bcc480a44c"
      },
      "outputs": [
        {
          "name": "stdout",
          "output_type": "stream",
          "text": [
            "Average Salary by Based_rich_nation:\n",
            "Based_rich_nation\n",
            "0    161825.567580\n",
            "1    444351.295251\n",
            "Name: Salary, dtype: float64\n"
          ]
        }
      ],
      "source": [
        "average_salary = df.groupby('Based_rich_nation')['Salary'].mean()\n",
        "print('Average Salary by Based_rich_nation:')\n",
        "print(average_salary)"
      ]
    },
    {
      "cell_type": "code",
      "execution_count": 87,
      "metadata": {
        "colab": {
          "base_uri": "https://localhost:8080/",
          "height": 472
        },
        "id": "F5sfBwoTsLyw",
        "outputId": "0e62e612-71b7-4b82-ef4b-08bae514efdd"
      },
      "outputs": [
        {
          "data": {
            "image/png": "[encoded data removed]",
            "text/plain": [
              "<Figure size 640x480 with 1 Axes>"
            ]
          },
          "metadata": {},
          "output_type": "display_data"
        }
      ],
      "source": [
        "sns.barplot(x='Based_rich_nation', y='Salary', data=df)\n",
        "plt.title('Bar Graph between Based_rich_nation and Salary')\n",
        "plt.show()"
      ]
    },
    {
      "cell_type": "code",
      "execution_count": 88,
      "metadata": {
        "colab": {
          "base_uri": "https://localhost:8080/"
        },
        "id": "RSJc66_ptB6c",
        "outputId": "6b90b370-92ed-4986-d05e-16accc11b555"
      },
      "outputs": [
        {
          "name": "stdout",
          "output_type": "stream",
          "text": [
            "Average Salary by Top Ranked Nation:\n",
            "Is_top_ranked_nation\n",
            "0    211872.507875\n",
            "1    396623.449555\n",
            "2    377052.107338\n",
            "Name: Salary, dtype: float64\n"
          ]
        }
      ],
      "source": [
        "average_salary = df.groupby('Is_top_ranked_nation')['Salary'].mean()\n",
        "print('Average Salary by Top Ranked Nation:')\n",
        "print(average_salary)"
      ]
    },
    {
      "cell_type": "code",
      "execution_count": 89,
      "metadata": {
        "colab": {
          "base_uri": "https://localhost:8080/",
          "height": 472
        },
        "id": "xx4hSBPEsjTp",
        "outputId": "ef0c2bc4-e8e0-4dde-9949-c90eccecaccc"
      },
      "outputs": [
        {
          "data": {
            "image/png": "[encoded data removed]",
            "text/plain": [
              "<Figure size 640x480 with 1 Axes>"
            ]
          },
          "metadata": {},
          "output_type": "display_data"
        }
      ],
      "source": [
        "sns.barplot(x='Is_top_ranked_nation', y='Salary', data=df)\n",
        "plt.title('Bar Graph between Is Top Ranked Nation and Salary')\n",
        "plt.show()"
      ]
    },
    {
      "cell_type": "code",
      "execution_count": 90,
      "metadata": {
        "colab": {
          "base_uri": "https://localhost:8080/"
        },
        "id": "YHRFeLGXtB6c",
        "outputId": "ccce22d1-5c50-40cd-a843-ea8618048c77"
      },
      "outputs": [
        {
          "name": "stdout",
          "output_type": "stream",
          "text": [
            "Average Salary by EU_National:\n",
            "EU_National\n",
            "0    292055.797194\n",
            "1    335549.827442\n",
            "Name: Salary, dtype: float64\n"
          ]
        }
      ],
      "source": [
        "average_salary = df.groupby('EU_National')['Salary'].mean()\n",
        "print('Average Salary by EU_National:')\n",
        "print(average_salary)"
      ]
    },
    {
      "cell_type": "code",
      "execution_count": 91,
      "metadata": {
        "colab": {
          "base_uri": "https://localhost:8080/",
          "height": 472
        },
        "id": "ZUfSPoorsqir",
        "outputId": "9bf48f1b-9db7-4cca-85fe-e60bf2c5bec2"
      },
      "outputs": [
        {
          "data": {
            "image/png": "[encoded data removed]",
            "text/plain": [
              "<Figure size 640x480 with 1 Axes>"
            ]
          },
          "metadata": {},
          "output_type": "display_data"
        }
      ],
      "source": [
        "sns.barplot(x='EU_National', y='Salary', data=df)\n",
        "plt.title('Bar Graph between EU_National and Salary')\n",
        "plt.show()"
      ]
    },
    {
      "cell_type": "code",
      "execution_count": 92,
      "metadata": {
        "colab": {
          "base_uri": "https://localhost:8080/"
        },
        "id": "Q4j4OHY5tB6d",
        "outputId": "b5cd6fd1-9a84-4da7-c33a-a46fc7153e61"
      },
      "outputs": [
        {
          "name": "stdout",
          "output_type": "stream",
          "text": [
            "Average Salary by Top Previous Club:\n",
            "Is_top_prev_club\n",
            "0    2.657387e+05\n",
            "1    2.288762e+06\n",
            "Name: Salary, dtype: float64\n"
          ]
        }
      ],
      "source": [
        "average_salary = df.groupby('Is_top_prev_club')['Salary'].mean()\n",
        "print('Average Salary by Top Previous Club:')\n",
        "print(average_salary)"
      ]
    },
    {
      "cell_type": "code",
      "execution_count": 93,
      "metadata": {
        "colab": {
          "base_uri": "https://localhost:8080/",
          "height": 472
        },
        "id": "1p_wDjaitFOA",
        "outputId": "476878f0-241e-479b-93c3-6c5e45045501"
      },
      "outputs": [
        {
          "data": {
            "image/png": "[encoded data removed]",
            "text/plain": [
              "<Figure size 640x480 with 1 Axes>"
            ]
          },
          "metadata": {},
          "output_type": "display_data"
        }
      ],
      "source": [
        "sns.barplot(x='Is_top_prev_club', y='Salary', data=df)\n",
        "plt.title('Bar Graph between Is Top Previous Club and Salary')\n",
        "plt.show()"
      ]
    },
    {
      "cell_type": "code",
      "execution_count": 94,
      "metadata": {
        "colab": {
          "base_uri": "https://localhost:8080/",
          "height": 35
        },
        "id": "gkSuXauxeJvR",
        "outputId": "1fe2fa8a-114a-48eb-8307-7b34e92e7ea1"
      },
      "outputs": [
        {
          "data": {
            "application/vnd.google.colaboratory.intrinsic+json": {
              "type": "string"
            },
            "text/plain": [
              "'\\n!pip install sweetviz\\nimport sweetviz as sv\\nrpt = sv.analyze(df)\\nrpt.show_notebook()\\n'"
            ]
          },
          "execution_count": 94,
          "metadata": {},
          "output_type": "execute_result"
        }
      ],
      "source": [
        "'''\n",
        "!pip install sweetviz\n",
        "import sweetviz as sv\n",
        "rpt = sv.analyze(df)\n",
        "rpt.show_notebook()\n",
        "'''\n"
      ]
    },
    {
      "cell_type": "code",
      "execution_count": 95,
      "metadata": {
        "colab": {
          "base_uri": "https://localhost:8080/"
        },
        "execution": {
          "iopub.execute_input": "2024-04-29T14:13:34.089739Z",
          "iopub.status.busy": "2024-04-29T14:13:34.088424Z",
          "iopub.status.idle": "2024-04-29T14:13:34.139638Z",
          "shell.execute_reply": "2024-04-29T14:13:34.138437Z",
          "shell.execute_reply.started": "2024-04-29T14:13:34.089692Z"
        },
        "id": "8wb03hE8eJvS",
        "outputId": "d071c270-7096-4f20-ea82-2fff6f4dd404"
      },
      "outputs": [
        {
          "data": {
            "text/plain": [
              "count    4.079100e+04\n",
              "mean     3.189044e+05\n",
              "std      2.006071e+06\n",
              "min      1.800000e+02\n",
              "25%      1.650000e+04\n",
              "50%      4.450000e+04\n",
              "75%      1.560000e+05\n",
              "max      2.034780e+08\n",
              "Name: Salary, dtype: float64"
            ]
          },
          "execution_count": 95,
          "metadata": {},
          "output_type": "execute_result"
        }
      ],
      "source": [
        "df.describe()['Salary']"
      ]
    },
    {
      "cell_type": "markdown",
      "metadata": {
        "id": "b4zm_VWyhM5H"
      },
      "source": [
        "# **Training the Model**"
      ]
    },
    {
      "cell_type": "code",
      "execution_count": 96,
      "metadata": {
        "execution": {
          "iopub.execute_input": "2024-04-29T14:04:34.953304Z",
          "iopub.status.busy": "2024-04-29T14:04:34.952276Z",
          "iopub.status.idle": "2024-04-29T14:04:34.962259Z",
          "shell.execute_reply": "2024-04-29T14:04:34.960938Z",
          "shell.execute_reply.started": "2024-04-29T14:04:34.953247Z"
        },
        "id": "cVSfTLFueJvS"
      },
      "outputs": [],
      "source": [
        "x=df.drop('Salary',axis=1)\n",
        "y=df['Salary']"
      ]
    },
    {
      "cell_type": "code",
      "execution_count": 97,
      "metadata": {
        "execution": {
          "iopub.execute_input": "2024-04-29T14:04:37.064384Z",
          "iopub.status.busy": "2024-04-29T14:04:37.063819Z",
          "iopub.status.idle": "2024-04-29T14:04:37.069556Z",
          "shell.execute_reply": "2024-04-29T14:04:37.068382Z",
          "shell.execute_reply.started": "2024-04-29T14:04:37.064340Z"
        },
        "id": "b-fLcQ4PeJvS"
      },
      "outputs": [],
      "source": [
        "scaler=MinMaxScaler()\n",
        "x=scaler.fit_transform(x)"
      ]
    },
    {
      "cell_type": "code",
      "execution_count": 98,
      "metadata": {
        "execution": {
          "iopub.execute_input": "2024-04-29T14:09:35.333776Z",
          "iopub.status.busy": "2024-04-29T14:09:35.333300Z",
          "iopub.status.idle": "2024-04-29T14:09:35.346997Z",
          "shell.execute_reply": "2024-04-29T14:09:35.345780Z",
          "shell.execute_reply.started": "2024-04-29T14:09:35.333744Z"
        },
        "id": "V9qFBnsceJvT"
      },
      "outputs": [],
      "source": [
        "x_train,x_test,y_train,y_test=train_test_split(x,y,test_size=0.2)"
      ]
    },
    {
      "cell_type": "code",
      "execution_count": 99,
      "metadata": {
        "colab": {
          "base_uri": "https://localhost:8080/"
        },
        "id": "Q20-b9CHvuPp",
        "outputId": "b03f9120-3cf3-4c3d-bd94-183b650c9756"
      },
      "outputs": [
        {
          "name": "stdout",
          "output_type": "stream",
          "text": [
            "Linear regression R2 score: 0.4394698567779951\n",
            "Decision Tree regression R2 score: 0.5563056571902594\n",
            "KNN R2 score: 0.480867956777727\n"
          ]
        }
      ],
      "source": [
        "from sklearn.linear_model import LinearRegression\n",
        "from sklearn.tree import DecisionTreeRegressor\n",
        "from sklearn.neighbors import KNeighborsRegressor\n",
        "\n",
        "# Train a linear regression model\n",
        "lr = LinearRegression()\n",
        "lr.fit(x_train, y_train)\n",
        "\n",
        "# Train a Polynomial regression model\n",
        "dt = DecisionTreeRegressor()\n",
        "dt.fit(x_train,y_train)\n",
        "\n",
        "# Train a k-nearest neighbors regressor\n",
        "knn = KNeighborsRegressor(n_neighbors=5)\n",
        "knn.fit(x_train, y_train)\n",
        "\n",
        "# Test the models\n",
        "lr_score = lr.score(x_test, y_test)\n",
        "dt_score = dt.score(x_test, y_test)\n",
        "knn_score = knn.score(x_test, y_test)\n",
        "\n",
        "print(\"Linear regression R2 score:\", lr_score)\n",
        "print(\"Decision Tree regression R2 score:\", dt_score)\n",
        "print(\"KNN R2 score:\", knn_score)\n"
      ]
    },
    {
      "cell_type": "code",
      "execution_count": 100,
      "metadata": {
        "colab": {
          "base_uri": "https://localhost:8080/"
        },
        "id": "pqNiHfNs0iIG",
        "outputId": "a9fa81e3-9e08-4ba4-aa2c-01222c40526c"
      },
      "outputs": [
        {
          "name": "stdout",
          "output_type": "stream",
          "text": [
            "Voting Regressor:\n",
            "- MSE: 952701505108.8455\n",
            "- RMSE: 976064.2935323705\n",
            "- R2: 0.5698857735981497\n"
          ]
        }
      ],
      "source": [
        "from sklearn.ensemble import VotingRegressor\n",
        "from sklearn.metrics import mean_squared_error, r2_score\n",
        "\n",
        "# Create the voting regressor\n",
        "estimators = [ ('dt', dt), ('knn', knn)]\n",
        "vreg = VotingRegressor(estimators)\n",
        "\n",
        "# Train the voting regressor\n",
        "vreg.fit(x_train, y_train)\n",
        "\n",
        "# Make predictions\n",
        "y_pred = vreg.predict(x_test)\n",
        "\n",
        "# Evaluate the model\n",
        "mse = mean_squared_error(y_test, y_pred)\n",
        "rmse = np.sqrt(mse)\n",
        "r2 = r2_score(y_test, y_pred)\n",
        "\n",
        "print(\"Voting Regressor:\")\n",
        "print(\"- MSE:\", mse)\n",
        "print(\"- RMSE:\", rmse)\n",
        "print(\"- R2:\", r2)"
      ]
    },
    {
      "cell_type": "code",
      "execution_count": 101,
      "metadata": {
        "colab": {
          "base_uri": "https://localhost:8080/"
        },
        "id": "-jaUVq7S1IPw",
        "outputId": "daad5a05-2660-4105-c39b-ae2745952e0f"
      },
      "outputs": [
        {
          "name": "stdout",
          "output_type": "stream",
          "text": [
            "Random Forest Regressor:\n",
            "- MSE: 1032873087492.3665\n",
            "- RMSE: 1016303.6394170624\n",
            "- R2: 0.53369087104852\n"
          ]
        }
      ],
      "source": [
        "from sklearn.ensemble import RandomForestRegressor\n",
        "\n",
        "# Create a random forest regressor\n",
        "rf = RandomForestRegressor()\n",
        "\n",
        "# Train the random forest regressor\n",
        "rf.fit(x_train, y_train)\n",
        "\n",
        "# Make predictions\n",
        "y_pred = rf.predict(x_test)\n",
        "\n",
        "# Evaluate the model\n",
        "mse = mean_squared_error(y_test, y_pred)\n",
        "rmse = np.sqrt(mse)\n",
        "r2 = r2_score(y_test, y_pred)\n",
        "\n",
        "print(\"Random Forest Regressor:\")\n",
        "print(\"- MSE:\", mse)\n",
        "print(\"- RMSE:\", rmse)\n",
        "print(\"- R2:\", r2)"
      ]
    },
    {
      "cell_type": "code",
      "execution_count": 102,
      "metadata": {
        "colab": {
          "base_uri": "https://localhost:8080/"
        },
        "id": "Cjtlui7Xv6YR",
        "outputId": "b95d607d-154c-46e6-e9e8-e04e1372ab90"
      },
      "outputs": [
        {
          "name": "stdout",
          "output_type": "stream",
          "text": [
            "Mean Squared Error: 2761085951743.2964\n",
            "Root Mean Squared Error: 1661651.5735085066\n",
            "R-squared: -0.24654190404307585\n"
          ]
        }
      ],
      "source": [
        "from xgboost import XGBRegressor\n",
        "\n",
        "model = XGBRegressor()\n",
        "model.fit(x_train, y_train)\n",
        "y_pred = model.predict(x_test)\n",
        "\n",
        "mse = mean_squared_error(y_test, y_pred)\n",
        "rmse = np.sqrt(mse)\n",
        "r2 = r2_score(y_test, y_pred)\n",
        "\n",
        "print(\"Mean Squared Error:\", mse)\n",
        "print(\"Root Mean Squared Error:\", rmse)\n",
        "print(\"R-squared:\", r2)"
      ]
    },
    {
      "cell_type": "code",
      "execution_count": 103,
      "metadata": {
        "colab": {
          "base_uri": "https://localhost:8080/"
        },
        "id": "4avrKLF675l8",
        "outputId": "c591eecf-b828-48d3-90d3-209ed1aec501"
      },
      "outputs": [
        {
          "name": "stdout",
          "output_type": "stream",
          "text": [
            "Extra Trees Regressor:\n",
            "- MSE: 877088479190.4127\n",
            "- RMSE: 936530.0204427047\n",
            "- R2: 0.6040226338575383\n"
          ]
        }
      ],
      "source": [
        "# Create an Extra Trees regressor\n",
        "et = ExtraTreesRegressor()\n",
        "\n",
        "# Train the Extra Trees regressor\n",
        "et.fit(x_train, y_train)\n",
        "\n",
        "# Make predictions\n",
        "y_pred = et.predict(x_test)\n",
        "\n",
        "# Evaluate the model\n",
        "mse = mean_squared_error(y_test, y_pred)\n",
        "rmse = np.sqrt(mse)\n",
        "r2 = r2_score(y_test, y_pred)\n",
        "\n",
        "print(\"Extra Trees Regressor:\")\n",
        "print(\"- MSE:\", mse)\n",
        "print(\"- RMSE:\", rmse)\n",
        "print(\"- R2:\", r2)"
      ]
    },
    {
      "cell_type": "code",
      "execution_count": null,
      "metadata": {},
      "outputs": [],
      "source": [
        "from sklearn.cluster import AgglomerativeClustering\n",
        "hierarchical_cluster = AgglomerativeClustering(n_clusters=3, affinity='euclidean', linkage='ward')\n",
        "labels = hierarchical_cluster.fit_predict(data)\n",
        "labels"
      ]
    },
    {
      "cell_type": "code",
      "execution_count": null,
      "metadata": {},
      "outputs": [],
      "source": [
        "from kmodes.kmodes import KModes\n",
        "from sklearn.cluster import KMeans\n",
        "\n",
        "kmodes_test = KModes(n_clusters=3,verbose=1,n_init=2)\n",
        "Clusters = kmodes_test.fit_predict(data)\n",
        "\n",
        "kmeans = KMeans(n_clusters = 3, init = 'k-means++', random_state = 101)\n",
        "kmeans.fit(data) "
      ]
    },
    {
      "cell_type": "code",
      "execution_count": null,
      "metadata": {},
      "outputs": [],
      "source": []
    }
  ],
  "metadata": {
    "colab": {
      "provenance": []
    },
    "kaggle": {
      "accelerator": "none",
      "dataSources": [
        {
          "datasetId": 4725185,
          "sourceId": 8128688,
          "sourceType": "datasetVersion"
        }
      ],
      "dockerImageVersionId": 30698,
      "isGpuEnabled": false,
      "isInternetEnabled": false,
      "language": "python",
      "sourceType": "notebook"
    },
    "kernelspec": {
      "display_name": "Python 3 (ipykernel)",
      "language": "python",
      "name": "python3"
    },
    "language_info": {
      "codemirror_mode": {
        "name": "ipython",
        "version": 3
      },
      "file_extension": ".py",
      "mimetype": "text/x-python",
      "name": "python",
      "nbconvert_exporter": "python",
      "pygments_lexer": "ipython3",
      "version": "3.9.12"
    }
  },
  "nbformat": 4,
  "nbformat_minor": 0
}
